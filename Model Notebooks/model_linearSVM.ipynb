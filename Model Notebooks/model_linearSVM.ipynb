{
  "nbformat": 4,
  "nbformat_minor": 0,
  "metadata": {
    "colab": {
      "name": "model_linearSVM.ipynb",
      "provenance": [],
      "collapsed_sections": [],
      "toc_visible": true
    },
    "kernelspec": {
      "display_name": "Python 3",
      "name": "python3"
    }
  },
  "cells": [
    {
      "cell_type": "markdown",
      "metadata": {
        "id": "A5qLlB57LXPB"
      },
      "source": [
        "***Importing Libraries***"
      ]
    },
    {
      "cell_type": "code",
      "metadata": {
        "id": "5s0GV9N0LgAR"
      },
      "source": [
        "import numpy as nm  \r\n",
        "import matplotlib.pyplot as mtp  \r\n",
        "import pandas as pd"
      ],
      "execution_count": null,
      "outputs": []
    },
    {
      "cell_type": "markdown",
      "metadata": {
        "id": "xlrVNKBKLtJo"
      },
      "source": [
        "***Loading Datasets ( Training & Testing )***"
      ]
    },
    {
      "cell_type": "code",
      "metadata": {
        "id": "SQIpLfdbLxO4"
      },
      "source": [
        "train_dataset = pd.read_csv('sample_data/train.csv') \r\n",
        "test_dataset = pd.read_csv('sample_data/test.csv')"
      ],
      "execution_count": null,
      "outputs": []
    },
    {
      "cell_type": "markdown",
      "metadata": {
        "id": "MkIrGahDxMW2"
      },
      "source": [
        "***Data Preparation***"
      ]
    },
    {
      "cell_type": "code",
      "metadata": {
        "id": "4AVCTIOMuwkY"
      },
      "source": [
        "x_train = train_dataset.iloc[:, 0 : 562].values  \r\n",
        "y_train = train_dataset.iloc[:, 562].values \r\n",
        "x_test = test_dataset.iloc[:, 0 : 562].values  \r\n",
        "y_test = test_dataset.iloc[:, 562].values "
      ],
      "execution_count": null,
      "outputs": []
    },
    {
      "cell_type": "markdown",
      "metadata": {
        "id": "epQrUKsqxX2G"
      },
      "source": [
        "***Model Part***"
      ]
    },
    {
      "cell_type": "code",
      "metadata": {
        "id": "KwPL4T4BwJ_X"
      },
      "source": [
        "from sklearn.svm import SVC # \"Support vector classifier\"  \r\n",
        "classifier = SVC(kernel='linear', random_state=0)  \r\n",
        "classifier.fit(x_train, y_train)  "
      ],
      "execution_count": null,
      "outputs": []
    },
    {
      "cell_type": "markdown",
      "metadata": {
        "id": "RxyVFU2Axlrl"
      },
      "source": [
        "***Predicting with Test Data***"
      ]
    },
    {
      "cell_type": "code",
      "metadata": {
        "id": "ucIzsK1LwXaY"
      },
      "source": [
        "y_pred= classifier.predict(x_test) "
      ],
      "execution_count": null,
      "outputs": []
    },
    {
      "cell_type": "markdown",
      "metadata": {
        "id": "e2xfoLp-x3Mn"
      },
      "source": [
        "# **Metrics**"
      ]
    },
    {
      "cell_type": "markdown",
      "metadata": {
        "id": "U2umPEuCx9uF"
      },
      "source": [
        "***Accuracy***"
      ]
    },
    {
      "cell_type": "code",
      "metadata": {
        "id": "DfWgNbLGyP07"
      },
      "source": [
        "from sklearn.metrics import accuracy_score"
      ],
      "execution_count": null,
      "outputs": []
    },
    {
      "cell_type": "code",
      "metadata": {
        "id": "lgsASp9DyZFP"
      },
      "source": [
        "accuracy_score(y_test, y_pred)"
      ],
      "execution_count": null,
      "outputs": []
    },
    {
      "cell_type": "markdown",
      "metadata": {
        "id": "X4XjryPLyzqg"
      },
      "source": [
        "***Classification Report***"
      ]
    },
    {
      "cell_type": "code",
      "metadata": {
        "id": "NAkCT9nuy26A"
      },
      "source": [
        "from sklearn.metrics import classification_report"
      ],
      "execution_count": null,
      "outputs": []
    },
    {
      "cell_type": "code",
      "metadata": {
        "id": "QcwSHW26z4xo"
      },
      "source": [
        "classification_report(y_test, y_pred)"
      ],
      "execution_count": null,
      "outputs": []
    },
    {
      "cell_type": "markdown",
      "metadata": {
        "id": "nar47fDz0Pho"
      },
      "source": [
        "***Confusion Matrix***"
      ]
    },
    {
      "cell_type": "code",
      "metadata": {
        "id": "1phOcaF-0Sxn"
      },
      "source": [
        "from sklearn.metrics import confusion_matrix  "
      ],
      "execution_count": null,
      "outputs": []
    },
    {
      "cell_type": "code",
      "metadata": {
        "id": "Tb799aSD0Y1v"
      },
      "source": [
        "confusion_matrix(y_test, y_pred) "
      ],
      "execution_count": null,
      "outputs": []
    },
    {
      "cell_type": "markdown",
      "metadata": {
        "id": "LfttCawT0mL_"
      },
      "source": [
        "***F1 Score***"
      ]
    },
    {
      "cell_type": "code",
      "metadata": {
        "id": "KnvoLT8f02uH"
      },
      "source": [
        "from sklearn.metrics import f1_score"
      ],
      "execution_count": null,
      "outputs": []
    },
    {
      "cell_type": "code",
      "metadata": {
        "id": "_cv5HRna2dyJ"
      },
      "source": [
        "f1_score(y_test, y_pred, average='micro')"
      ],
      "execution_count": null,
      "outputs": []
    },
    {
      "cell_type": "markdown",
      "metadata": {
        "id": "jUQ8T1-b7rKg"
      },
      "source": [
        "***Saving the Model***"
      ]
    },
    {
      "cell_type": "code",
      "metadata": {
        "id": "vbTKVIxR7vWP"
      },
      "source": [
        "import pickle"
      ],
      "execution_count": null,
      "outputs": []
    },
    {
      "cell_type": "code",
      "metadata": {
        "id": "frtSWlML96A2"
      },
      "source": [
        "file = \"model_linearSVM.pkl\"\r\n",
        "fileObj = open(file , 'wb+')"
      ],
      "execution_count": null,
      "outputs": []
    },
    {
      "cell_type": "code",
      "metadata": {
        "id": "bwzvYebS70Am"
      },
      "source": [
        "pickle.dump(classifier, fileObj, protocol=pickle.HIGHEST_PROTOCOL)"
      ],
      "execution_count": null,
      "outputs": []
    },
    {
      "cell_type": "code",
      "metadata": {
        "id": "awxUXGbAB6Wo"
      },
      "source": [
        "pickle.load(open(file, 'rb'))"
      ],
      "execution_count": null,
      "outputs": []
    }
  ]
}