{
  "nbformat": 4,
  "nbformat_minor": 0,
  "metadata": {
    "colab": {
      "name": "model_linearSVM.ipynb",
      "provenance": [],
      "collapsed_sections": [],
      "toc_visible": true
    },
    "kernelspec": {
      "display_name": "Python 3",
      "name": "python3"
    }
  },
  "cells": [
    {
      "cell_type": "markdown",
      "metadata": {
        "id": "A5qLlB57LXPB"
      },
      "source": [
        "***Importing Libraries***"
      ]
    },
    {
      "cell_type": "code",
      "metadata": {
        "id": "5s0GV9N0LgAR"
      },
      "source": [
        "import numpy as nm  \r\n",
        "import matplotlib.pyplot as mtp  \r\n",
        "import pandas as pd"
      ],
      "execution_count": 2,
      "outputs": []
    },
    {
      "cell_type": "markdown",
      "metadata": {
        "id": "xlrVNKBKLtJo"
      },
      "source": [
        "***Loading Datasets ( Training & Testing )***"
      ]
    },
    {
      "cell_type": "code",
      "metadata": {
        "id": "SQIpLfdbLxO4"
      },
      "source": [
        "train_dataset = pd.read_csv('sample_data/train.csv') \r\n",
        "test_dataset = pd.read_csv('sample_data/test.csv')"
      ],
      "execution_count": 4,
      "outputs": []
    },
    {
      "cell_type": "markdown",
      "metadata": {
        "id": "MkIrGahDxMW2"
      },
      "source": [
        "***Data Preparation***"
      ]
    },
    {
      "cell_type": "code",
      "metadata": {
        "id": "4AVCTIOMuwkY"
      },
      "source": [
        "x_train = train_dataset.iloc[:, 0 : 562].values  \r\n",
        "y_train = train_dataset.iloc[:, 562].values \r\n",
        "x_test = test_dataset.iloc[:, 0 : 562].values  \r\n",
        "y_test = test_dataset.iloc[:, 562].values "
      ],
      "execution_count": 20,
      "outputs": []
    },
    {
      "cell_type": "markdown",
      "metadata": {
        "id": "epQrUKsqxX2G"
      },
      "source": [
        "***Model Part***"
      ]
    },
    {
      "cell_type": "code",
      "metadata": {
        "id": "KwPL4T4BwJ_X",
        "outputId": "08a31d9d-8282-44ab-b390-ecd3ed651945",
        "colab": {
          "base_uri": "https://localhost:8080/"
        }
      },
      "source": [
        "from sklearn.svm import SVC # \"Support vector classifier\"  \r\n",
        "classifier = SVC(kernel='linear', random_state=0)  \r\n",
        "classifier.fit(x_train, y_train)  "
      ],
      "execution_count": 61,
      "outputs": [
        {
          "output_type": "execute_result",
          "data": {
            "text/plain": [
              "SVC(C=1.0, break_ties=False, cache_size=200, class_weight=None, coef0=0.0,\n",
              "    decision_function_shape='ovr', degree=3, gamma='scale', kernel='linear',\n",
              "    max_iter=-1, probability=False, random_state=0, shrinking=True, tol=0.001,\n",
              "    verbose=False)"
            ]
          },
          "metadata": {
            "tags": []
          },
          "execution_count": 61
        }
      ]
    },
    {
      "cell_type": "markdown",
      "metadata": {
        "id": "RxyVFU2Axlrl"
      },
      "source": [
        "***Predicting with Test Data***"
      ]
    },
    {
      "cell_type": "code",
      "metadata": {
        "id": "ucIzsK1LwXaY"
      },
      "source": [
        "y_pred= classifier.predict(x_test) "
      ],
      "execution_count": 22,
      "outputs": []
    },
    {
      "cell_type": "markdown",
      "metadata": {
        "id": "e2xfoLp-x3Mn"
      },
      "source": [
        "# **Metrics**"
      ]
    },
    {
      "cell_type": "markdown",
      "metadata": {
        "id": "U2umPEuCx9uF"
      },
      "source": [
        "***Accuracy***"
      ]
    },
    {
      "cell_type": "code",
      "metadata": {
        "id": "DfWgNbLGyP07"
      },
      "source": [
        "from sklearn.metrics import accuracy_score"
      ],
      "execution_count": 27,
      "outputs": []
    },
    {
      "cell_type": "code",
      "metadata": {
        "id": "lgsASp9DyZFP",
        "outputId": "d8a231c2-b28f-4b33-dd06-8c1b7d0b183d",
        "colab": {
          "base_uri": "https://localhost:8080/"
        }
      },
      "source": [
        "accuracy_score(y_test, y_pred)"
      ],
      "execution_count": 28,
      "outputs": [
        {
          "output_type": "execute_result",
          "data": {
            "text/plain": [
              "0.9633525619273838"
            ]
          },
          "metadata": {
            "tags": []
          },
          "execution_count": 28
        }
      ]
    },
    {
      "cell_type": "markdown",
      "metadata": {
        "id": "X4XjryPLyzqg"
      },
      "source": [
        "***Classification Report***"
      ]
    },
    {
      "cell_type": "code",
      "metadata": {
        "id": "NAkCT9nuy26A"
      },
      "source": [
        "from sklearn.metrics import classification_report"
      ],
      "execution_count": 29,
      "outputs": []
    },
    {
      "cell_type": "code",
      "metadata": {
        "id": "QcwSHW26z4xo"
      },
      "source": [
        "classification_report(y_test, y_pred)"
      ],
      "execution_count": null,
      "outputs": []
    },
    {
      "cell_type": "markdown",
      "metadata": {
        "id": "nar47fDz0Pho"
      },
      "source": [
        "***Confusion Matrix***"
      ]
    },
    {
      "cell_type": "code",
      "metadata": {
        "id": "1phOcaF-0Sxn"
      },
      "source": [
        "from sklearn.metrics import confusion_matrix  "
      ],
      "execution_count": 31,
      "outputs": []
    },
    {
      "cell_type": "code",
      "metadata": {
        "id": "Tb799aSD0Y1v"
      },
      "source": [
        "cm= confusion_matrix(y_test, y_pred) "
      ],
      "execution_count": 32,
      "outputs": []
    },
    {
      "cell_type": "code",
      "metadata": {
        "id": "1AXcj5YO0aWv"
      },
      "source": [
        "cm"
      ],
      "execution_count": null,
      "outputs": []
    },
    {
      "cell_type": "markdown",
      "metadata": {
        "id": "LfttCawT0mL_"
      },
      "source": [
        "***F1 Score***"
      ]
    },
    {
      "cell_type": "code",
      "metadata": {
        "id": "KnvoLT8f02uH"
      },
      "source": [
        "from sklearn.metrics import f1_score"
      ],
      "execution_count": 34,
      "outputs": []
    },
    {
      "cell_type": "code",
      "metadata": {
        "id": "_cv5HRna2dyJ",
        "outputId": "09bcb9af-2556-48d6-b059-2e927c813a91",
        "colab": {
          "base_uri": "https://localhost:8080/"
        }
      },
      "source": [
        "f1_score(y_test, y_pred, average='micro')"
      ],
      "execution_count": 43,
      "outputs": [
        {
          "output_type": "execute_result",
          "data": {
            "text/plain": [
              "0.9633525619273838"
            ]
          },
          "metadata": {
            "tags": []
          },
          "execution_count": 43
        }
      ]
    },
    {
      "cell_type": "markdown",
      "metadata": {
        "id": "8ZDW6y2j2q2A"
      },
      "source": [
        "***AUC ROC Score***"
      ]
    },
    {
      "cell_type": "code",
      "metadata": {
        "id": "LOTx5RaZ2tty"
      },
      "source": [
        "from sklearn.metrics import roc_auc_score"
      ],
      "execution_count": 53,
      "outputs": []
    },
    {
      "cell_type": "code",
      "metadata": {
        "id": "2usKqMuGALtH"
      },
      "source": [
        ""
      ],
      "execution_count": null,
      "outputs": []
    },
    {
      "cell_type": "markdown",
      "metadata": {
        "id": "jUQ8T1-b7rKg"
      },
      "source": [
        "***Saving the Model***"
      ]
    },
    {
      "cell_type": "code",
      "metadata": {
        "id": "vbTKVIxR7vWP"
      },
      "source": [
        "import pickle"
      ],
      "execution_count": 55,
      "outputs": []
    },
    {
      "cell_type": "code",
      "metadata": {
        "id": "frtSWlML96A2"
      },
      "source": [
        "file = \"model_linearSVM.pkl\"\r\n",
        "fileObj = open(file , 'wb+')"
      ],
      "execution_count": 65,
      "outputs": []
    },
    {
      "cell_type": "code",
      "metadata": {
        "id": "bwzvYebS70Am"
      },
      "source": [
        "pickle.dump(classifier, fileObj, protocol=pickle.HIGHEST_PROTOCOL)"
      ],
      "execution_count": 67,
      "outputs": []
    },
    {
      "cell_type": "code",
      "metadata": {
        "id": "awxUXGbAB6Wo",
        "outputId": "9dfde636-c18f-42b7-e7ec-2010cd352356",
        "colab": {
          "base_uri": "https://localhost:8080/"
        }
      },
      "source": [
        "pickle.load(open(file, 'rb'))"
      ],
      "execution_count": 68,
      "outputs": [
        {
          "output_type": "execute_result",
          "data": {
            "text/plain": [
              "SVC(C=1.0, break_ties=False, cache_size=200, class_weight=None, coef0=0.0,\n",
              "    decision_function_shape='ovr', degree=3, gamma='scale', kernel='linear',\n",
              "    max_iter=-1, probability=False, random_state=0, shrinking=True, tol=0.001,\n",
              "    verbose=False)"
            ]
          },
          "metadata": {
            "tags": []
          },
          "execution_count": 68
        }
      ]
    }
  ]
}