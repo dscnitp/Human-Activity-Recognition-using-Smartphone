{
  "nbformat": 4,
  "nbformat_minor": 0,
  "metadata": {
    "colab": {
      "name": "model_decisionTree_randomForest.ipynb",
      "provenance": [],
      "collapsed_sections": []
    },
    "kernelspec": {
      "name": "python3",
      "display_name": "Python 3"
    }
  },
  "cells": [
    {
      "cell_type": "code",
      "metadata": {
        "colab": {
          "base_uri": "https://localhost:8080/"
        },
        "id": "RaTm-5mSJQIl",
        "outputId": "d316c814-bce0-4347-f6df-6d3b13848f54"
      },
      "source": [
        "cd /content/drive/MyDrive/DSCNITP/Human Activity Detection"
      ],
      "execution_count": null,
      "outputs": [
        {
          "output_type": "stream",
          "text": [
            "/content/drive/MyDrive/DSCNITP/Human Activity Detection\n"
          ],
          "name": "stdout"
        }
      ]
    },
    {
      "cell_type": "code",
      "metadata": {
        "id": "RqDuB27h0M3x"
      },
      "source": [
        ""
      ],
      "execution_count": null,
      "outputs": []
    },
    {
      "cell_type": "markdown",
      "metadata": {
        "id": "gzdnSorEuKWt"
      },
      "source": [
        "Importing All Required Libraries"
      ]
    },
    {
      "cell_type": "code",
      "metadata": {
        "id": "aWBvHVX0MEMM"
      },
      "source": [
        "import pandas as pd\r\n",
        "import numpy as np\r\n",
        "import matplotlib.pyplot as plt"
      ],
      "execution_count": 67,
      "outputs": []
    },
    {
      "cell_type": "markdown",
      "metadata": {
        "id": "dwmXrTltuRVw"
      },
      "source": [
        "# Loading the Dataset ( Training & Testing )"
      ]
    },
    {
      "cell_type": "code",
      "metadata": {
        "id": "t-13Gy1SLeDc"
      },
      "source": [
        "train_df = pd.read_csv(\"UCI HAR Dataset/train/X_train.txt\", delim_whitespace = True,names=list(range(0,561)))\r\n",
        "\r\n",
        "train_df['Subject'] = pd.read_csv(\"UCI HAR Dataset/train/subject_train.txt\", header = None, squeeze = True)\r\n",
        "\r\n",
        "train_df[\"activity\"] = pd.read_csv(\"UCI HAR Dataset/train/y_train.txt\", header = None, squeeze = True)\r\n"
      ],
      "execution_count": 3,
      "outputs": []
    },
    {
      "cell_type": "code",
      "metadata": {
        "id": "3YiBtAauuWDc"
      },
      "source": [
        ""
      ],
      "execution_count": null,
      "outputs": []
    },
    {
      "cell_type": "markdown",
      "metadata": {
        "id": "QK67xdqFusMv"
      },
      "source": [
        "# Data Prepration"
      ]
    },
    {
      "cell_type": "code",
      "metadata": {
        "id": "g8_2F2TKNcTG"
      },
      "source": [
        "features = list()\r\n",
        "with open(\"UCI HAR Dataset/features.txt\") as f:\r\n",
        "    for line in f:\r\n",
        "        features.append(line.split()[1])\r\n"
      ],
      "execution_count": 5,
      "outputs": []
    },
    {
      "cell_type": "code",
      "metadata": {
        "colab": {
          "base_uri": "https://localhost:8080/"
        },
        "id": "3lHtvnJvMPkX",
        "outputId": "231530e8-de18-4dbe-b35d-98cbc8047276"
      },
      "source": [
        "features"
      ],
      "execution_count": 6,
      "outputs": [
        {
          "output_type": "execute_result",
          "data": {
            "text/plain": [
              "['tBodyAcc-mean()-X',\n",
              " 'tBodyAcc-mean()-Y',\n",
              " 'tBodyAcc-mean()-Z',\n",
              " 'tBodyAcc-std()-X',\n",
              " 'tBodyAcc-std()-Y',\n",
              " 'tBodyAcc-std()-Z',\n",
              " 'tBodyAcc-mad()-X',\n",
              " 'tBodyAcc-mad()-Y',\n",
              " 'tBodyAcc-mad()-Z',\n",
              " 'tBodyAcc-max()-X',\n",
              " 'tBodyAcc-max()-Y',\n",
              " 'tBodyAcc-max()-Z',\n",
              " 'tBodyAcc-min()-X',\n",
              " 'tBodyAcc-min()-Y',\n",
              " 'tBodyAcc-min()-Z',\n",
              " 'tBodyAcc-sma()',\n",
              " 'tBodyAcc-energy()-X',\n",
              " 'tBodyAcc-energy()-Y',\n",
              " 'tBodyAcc-energy()-Z',\n",
              " 'tBodyAcc-iqr()-X',\n",
              " 'tBodyAcc-iqr()-Y',\n",
              " 'tBodyAcc-iqr()-Z',\n",
              " 'tBodyAcc-entropy()-X',\n",
              " 'tBodyAcc-entropy()-Y',\n",
              " 'tBodyAcc-entropy()-Z',\n",
              " 'tBodyAcc-arCoeff()-X,1',\n",
              " 'tBodyAcc-arCoeff()-X,2',\n",
              " 'tBodyAcc-arCoeff()-X,3',\n",
              " 'tBodyAcc-arCoeff()-X,4',\n",
              " 'tBodyAcc-arCoeff()-Y,1',\n",
              " 'tBodyAcc-arCoeff()-Y,2',\n",
              " 'tBodyAcc-arCoeff()-Y,3',\n",
              " 'tBodyAcc-arCoeff()-Y,4',\n",
              " 'tBodyAcc-arCoeff()-Z,1',\n",
              " 'tBodyAcc-arCoeff()-Z,2',\n",
              " 'tBodyAcc-arCoeff()-Z,3',\n",
              " 'tBodyAcc-arCoeff()-Z,4',\n",
              " 'tBodyAcc-correlation()-X,Y',\n",
              " 'tBodyAcc-correlation()-X,Z',\n",
              " 'tBodyAcc-correlation()-Y,Z',\n",
              " 'tGravityAcc-mean()-X',\n",
              " 'tGravityAcc-mean()-Y',\n",
              " 'tGravityAcc-mean()-Z',\n",
              " 'tGravityAcc-std()-X',\n",
              " 'tGravityAcc-std()-Y',\n",
              " 'tGravityAcc-std()-Z',\n",
              " 'tGravityAcc-mad()-X',\n",
              " 'tGravityAcc-mad()-Y',\n",
              " 'tGravityAcc-mad()-Z',\n",
              " 'tGravityAcc-max()-X',\n",
              " 'tGravityAcc-max()-Y',\n",
              " 'tGravityAcc-max()-Z',\n",
              " 'tGravityAcc-min()-X',\n",
              " 'tGravityAcc-min()-Y',\n",
              " 'tGravityAcc-min()-Z',\n",
              " 'tGravityAcc-sma()',\n",
              " 'tGravityAcc-energy()-X',\n",
              " 'tGravityAcc-energy()-Y',\n",
              " 'tGravityAcc-energy()-Z',\n",
              " 'tGravityAcc-iqr()-X',\n",
              " 'tGravityAcc-iqr()-Y',\n",
              " 'tGravityAcc-iqr()-Z',\n",
              " 'tGravityAcc-entropy()-X',\n",
              " 'tGravityAcc-entropy()-Y',\n",
              " 'tGravityAcc-entropy()-Z',\n",
              " 'tGravityAcc-arCoeff()-X,1',\n",
              " 'tGravityAcc-arCoeff()-X,2',\n",
              " 'tGravityAcc-arCoeff()-X,3',\n",
              " 'tGravityAcc-arCoeff()-X,4',\n",
              " 'tGravityAcc-arCoeff()-Y,1',\n",
              " 'tGravityAcc-arCoeff()-Y,2',\n",
              " 'tGravityAcc-arCoeff()-Y,3',\n",
              " 'tGravityAcc-arCoeff()-Y,4',\n",
              " 'tGravityAcc-arCoeff()-Z,1',\n",
              " 'tGravityAcc-arCoeff()-Z,2',\n",
              " 'tGravityAcc-arCoeff()-Z,3',\n",
              " 'tGravityAcc-arCoeff()-Z,4',\n",
              " 'tGravityAcc-correlation()-X,Y',\n",
              " 'tGravityAcc-correlation()-X,Z',\n",
              " 'tGravityAcc-correlation()-Y,Z',\n",
              " 'tBodyAccJerk-mean()-X',\n",
              " 'tBodyAccJerk-mean()-Y',\n",
              " 'tBodyAccJerk-mean()-Z',\n",
              " 'tBodyAccJerk-std()-X',\n",
              " 'tBodyAccJerk-std()-Y',\n",
              " 'tBodyAccJerk-std()-Z',\n",
              " 'tBodyAccJerk-mad()-X',\n",
              " 'tBodyAccJerk-mad()-Y',\n",
              " 'tBodyAccJerk-mad()-Z',\n",
              " 'tBodyAccJerk-max()-X',\n",
              " 'tBodyAccJerk-max()-Y',\n",
              " 'tBodyAccJerk-max()-Z',\n",
              " 'tBodyAccJerk-min()-X',\n",
              " 'tBodyAccJerk-min()-Y',\n",
              " 'tBodyAccJerk-min()-Z',\n",
              " 'tBodyAccJerk-sma()',\n",
              " 'tBodyAccJerk-energy()-X',\n",
              " 'tBodyAccJerk-energy()-Y',\n",
              " 'tBodyAccJerk-energy()-Z',\n",
              " 'tBodyAccJerk-iqr()-X',\n",
              " 'tBodyAccJerk-iqr()-Y',\n",
              " 'tBodyAccJerk-iqr()-Z',\n",
              " 'tBodyAccJerk-entropy()-X',\n",
              " 'tBodyAccJerk-entropy()-Y',\n",
              " 'tBodyAccJerk-entropy()-Z',\n",
              " 'tBodyAccJerk-arCoeff()-X,1',\n",
              " 'tBodyAccJerk-arCoeff()-X,2',\n",
              " 'tBodyAccJerk-arCoeff()-X,3',\n",
              " 'tBodyAccJerk-arCoeff()-X,4',\n",
              " 'tBodyAccJerk-arCoeff()-Y,1',\n",
              " 'tBodyAccJerk-arCoeff()-Y,2',\n",
              " 'tBodyAccJerk-arCoeff()-Y,3',\n",
              " 'tBodyAccJerk-arCoeff()-Y,4',\n",
              " 'tBodyAccJerk-arCoeff()-Z,1',\n",
              " 'tBodyAccJerk-arCoeff()-Z,2',\n",
              " 'tBodyAccJerk-arCoeff()-Z,3',\n",
              " 'tBodyAccJerk-arCoeff()-Z,4',\n",
              " 'tBodyAccJerk-correlation()-X,Y',\n",
              " 'tBodyAccJerk-correlation()-X,Z',\n",
              " 'tBodyAccJerk-correlation()-Y,Z',\n",
              " 'tBodyGyro-mean()-X',\n",
              " 'tBodyGyro-mean()-Y',\n",
              " 'tBodyGyro-mean()-Z',\n",
              " 'tBodyGyro-std()-X',\n",
              " 'tBodyGyro-std()-Y',\n",
              " 'tBodyGyro-std()-Z',\n",
              " 'tBodyGyro-mad()-X',\n",
              " 'tBodyGyro-mad()-Y',\n",
              " 'tBodyGyro-mad()-Z',\n",
              " 'tBodyGyro-max()-X',\n",
              " 'tBodyGyro-max()-Y',\n",
              " 'tBodyGyro-max()-Z',\n",
              " 'tBodyGyro-min()-X',\n",
              " 'tBodyGyro-min()-Y',\n",
              " 'tBodyGyro-min()-Z',\n",
              " 'tBodyGyro-sma()',\n",
              " 'tBodyGyro-energy()-X',\n",
              " 'tBodyGyro-energy()-Y',\n",
              " 'tBodyGyro-energy()-Z',\n",
              " 'tBodyGyro-iqr()-X',\n",
              " 'tBodyGyro-iqr()-Y',\n",
              " 'tBodyGyro-iqr()-Z',\n",
              " 'tBodyGyro-entropy()-X',\n",
              " 'tBodyGyro-entropy()-Y',\n",
              " 'tBodyGyro-entropy()-Z',\n",
              " 'tBodyGyro-arCoeff()-X,1',\n",
              " 'tBodyGyro-arCoeff()-X,2',\n",
              " 'tBodyGyro-arCoeff()-X,3',\n",
              " 'tBodyGyro-arCoeff()-X,4',\n",
              " 'tBodyGyro-arCoeff()-Y,1',\n",
              " 'tBodyGyro-arCoeff()-Y,2',\n",
              " 'tBodyGyro-arCoeff()-Y,3',\n",
              " 'tBodyGyro-arCoeff()-Y,4',\n",
              " 'tBodyGyro-arCoeff()-Z,1',\n",
              " 'tBodyGyro-arCoeff()-Z,2',\n",
              " 'tBodyGyro-arCoeff()-Z,3',\n",
              " 'tBodyGyro-arCoeff()-Z,4',\n",
              " 'tBodyGyro-correlation()-X,Y',\n",
              " 'tBodyGyro-correlation()-X,Z',\n",
              " 'tBodyGyro-correlation()-Y,Z',\n",
              " 'tBodyGyroJerk-mean()-X',\n",
              " 'tBodyGyroJerk-mean()-Y',\n",
              " 'tBodyGyroJerk-mean()-Z',\n",
              " 'tBodyGyroJerk-std()-X',\n",
              " 'tBodyGyroJerk-std()-Y',\n",
              " 'tBodyGyroJerk-std()-Z',\n",
              " 'tBodyGyroJerk-mad()-X',\n",
              " 'tBodyGyroJerk-mad()-Y',\n",
              " 'tBodyGyroJerk-mad()-Z',\n",
              " 'tBodyGyroJerk-max()-X',\n",
              " 'tBodyGyroJerk-max()-Y',\n",
              " 'tBodyGyroJerk-max()-Z',\n",
              " 'tBodyGyroJerk-min()-X',\n",
              " 'tBodyGyroJerk-min()-Y',\n",
              " 'tBodyGyroJerk-min()-Z',\n",
              " 'tBodyGyroJerk-sma()',\n",
              " 'tBodyGyroJerk-energy()-X',\n",
              " 'tBodyGyroJerk-energy()-Y',\n",
              " 'tBodyGyroJerk-energy()-Z',\n",
              " 'tBodyGyroJerk-iqr()-X',\n",
              " 'tBodyGyroJerk-iqr()-Y',\n",
              " 'tBodyGyroJerk-iqr()-Z',\n",
              " 'tBodyGyroJerk-entropy()-X',\n",
              " 'tBodyGyroJerk-entropy()-Y',\n",
              " 'tBodyGyroJerk-entropy()-Z',\n",
              " 'tBodyGyroJerk-arCoeff()-X,1',\n",
              " 'tBodyGyroJerk-arCoeff()-X,2',\n",
              " 'tBodyGyroJerk-arCoeff()-X,3',\n",
              " 'tBodyGyroJerk-arCoeff()-X,4',\n",
              " 'tBodyGyroJerk-arCoeff()-Y,1',\n",
              " 'tBodyGyroJerk-arCoeff()-Y,2',\n",
              " 'tBodyGyroJerk-arCoeff()-Y,3',\n",
              " 'tBodyGyroJerk-arCoeff()-Y,4',\n",
              " 'tBodyGyroJerk-arCoeff()-Z,1',\n",
              " 'tBodyGyroJerk-arCoeff()-Z,2',\n",
              " 'tBodyGyroJerk-arCoeff()-Z,3',\n",
              " 'tBodyGyroJerk-arCoeff()-Z,4',\n",
              " 'tBodyGyroJerk-correlation()-X,Y',\n",
              " 'tBodyGyroJerk-correlation()-X,Z',\n",
              " 'tBodyGyroJerk-correlation()-Y,Z',\n",
              " 'tBodyAccMag-mean()',\n",
              " 'tBodyAccMag-std()',\n",
              " 'tBodyAccMag-mad()',\n",
              " 'tBodyAccMag-max()',\n",
              " 'tBodyAccMag-min()',\n",
              " 'tBodyAccMag-sma()',\n",
              " 'tBodyAccMag-energy()',\n",
              " 'tBodyAccMag-iqr()',\n",
              " 'tBodyAccMag-entropy()',\n",
              " 'tBodyAccMag-arCoeff()1',\n",
              " 'tBodyAccMag-arCoeff()2',\n",
              " 'tBodyAccMag-arCoeff()3',\n",
              " 'tBodyAccMag-arCoeff()4',\n",
              " 'tGravityAccMag-mean()',\n",
              " 'tGravityAccMag-std()',\n",
              " 'tGravityAccMag-mad()',\n",
              " 'tGravityAccMag-max()',\n",
              " 'tGravityAccMag-min()',\n",
              " 'tGravityAccMag-sma()',\n",
              " 'tGravityAccMag-energy()',\n",
              " 'tGravityAccMag-iqr()',\n",
              " 'tGravityAccMag-entropy()',\n",
              " 'tGravityAccMag-arCoeff()1',\n",
              " 'tGravityAccMag-arCoeff()2',\n",
              " 'tGravityAccMag-arCoeff()3',\n",
              " 'tGravityAccMag-arCoeff()4',\n",
              " 'tBodyAccJerkMag-mean()',\n",
              " 'tBodyAccJerkMag-std()',\n",
              " 'tBodyAccJerkMag-mad()',\n",
              " 'tBodyAccJerkMag-max()',\n",
              " 'tBodyAccJerkMag-min()',\n",
              " 'tBodyAccJerkMag-sma()',\n",
              " 'tBodyAccJerkMag-energy()',\n",
              " 'tBodyAccJerkMag-iqr()',\n",
              " 'tBodyAccJerkMag-entropy()',\n",
              " 'tBodyAccJerkMag-arCoeff()1',\n",
              " 'tBodyAccJerkMag-arCoeff()2',\n",
              " 'tBodyAccJerkMag-arCoeff()3',\n",
              " 'tBodyAccJerkMag-arCoeff()4',\n",
              " 'tBodyGyroMag-mean()',\n",
              " 'tBodyGyroMag-std()',\n",
              " 'tBodyGyroMag-mad()',\n",
              " 'tBodyGyroMag-max()',\n",
              " 'tBodyGyroMag-min()',\n",
              " 'tBodyGyroMag-sma()',\n",
              " 'tBodyGyroMag-energy()',\n",
              " 'tBodyGyroMag-iqr()',\n",
              " 'tBodyGyroMag-entropy()',\n",
              " 'tBodyGyroMag-arCoeff()1',\n",
              " 'tBodyGyroMag-arCoeff()2',\n",
              " 'tBodyGyroMag-arCoeff()3',\n",
              " 'tBodyGyroMag-arCoeff()4',\n",
              " 'tBodyGyroJerkMag-mean()',\n",
              " 'tBodyGyroJerkMag-std()',\n",
              " 'tBodyGyroJerkMag-mad()',\n",
              " 'tBodyGyroJerkMag-max()',\n",
              " 'tBodyGyroJerkMag-min()',\n",
              " 'tBodyGyroJerkMag-sma()',\n",
              " 'tBodyGyroJerkMag-energy()',\n",
              " 'tBodyGyroJerkMag-iqr()',\n",
              " 'tBodyGyroJerkMag-entropy()',\n",
              " 'tBodyGyroJerkMag-arCoeff()1',\n",
              " 'tBodyGyroJerkMag-arCoeff()2',\n",
              " 'tBodyGyroJerkMag-arCoeff()3',\n",
              " 'tBodyGyroJerkMag-arCoeff()4',\n",
              " 'fBodyAcc-mean()-X',\n",
              " 'fBodyAcc-mean()-Y',\n",
              " 'fBodyAcc-mean()-Z',\n",
              " 'fBodyAcc-std()-X',\n",
              " 'fBodyAcc-std()-Y',\n",
              " 'fBodyAcc-std()-Z',\n",
              " 'fBodyAcc-mad()-X',\n",
              " 'fBodyAcc-mad()-Y',\n",
              " 'fBodyAcc-mad()-Z',\n",
              " 'fBodyAcc-max()-X',\n",
              " 'fBodyAcc-max()-Y',\n",
              " 'fBodyAcc-max()-Z',\n",
              " 'fBodyAcc-min()-X',\n",
              " 'fBodyAcc-min()-Y',\n",
              " 'fBodyAcc-min()-Z',\n",
              " 'fBodyAcc-sma()',\n",
              " 'fBodyAcc-energy()-X',\n",
              " 'fBodyAcc-energy()-Y',\n",
              " 'fBodyAcc-energy()-Z',\n",
              " 'fBodyAcc-iqr()-X',\n",
              " 'fBodyAcc-iqr()-Y',\n",
              " 'fBodyAcc-iqr()-Z',\n",
              " 'fBodyAcc-entropy()-X',\n",
              " 'fBodyAcc-entropy()-Y',\n",
              " 'fBodyAcc-entropy()-Z',\n",
              " 'fBodyAcc-maxInds-X',\n",
              " 'fBodyAcc-maxInds-Y',\n",
              " 'fBodyAcc-maxInds-Z',\n",
              " 'fBodyAcc-meanFreq()-X',\n",
              " 'fBodyAcc-meanFreq()-Y',\n",
              " 'fBodyAcc-meanFreq()-Z',\n",
              " 'fBodyAcc-skewness()-X',\n",
              " 'fBodyAcc-kurtosis()-X',\n",
              " 'fBodyAcc-skewness()-Y',\n",
              " 'fBodyAcc-kurtosis()-Y',\n",
              " 'fBodyAcc-skewness()-Z',\n",
              " 'fBodyAcc-kurtosis()-Z',\n",
              " 'fBodyAcc-bandsEnergy()-1,8',\n",
              " 'fBodyAcc-bandsEnergy()-9,16',\n",
              " 'fBodyAcc-bandsEnergy()-17,24',\n",
              " 'fBodyAcc-bandsEnergy()-25,32',\n",
              " 'fBodyAcc-bandsEnergy()-33,40',\n",
              " 'fBodyAcc-bandsEnergy()-41,48',\n",
              " 'fBodyAcc-bandsEnergy()-49,56',\n",
              " 'fBodyAcc-bandsEnergy()-57,64',\n",
              " 'fBodyAcc-bandsEnergy()-1,16',\n",
              " 'fBodyAcc-bandsEnergy()-17,32',\n",
              " 'fBodyAcc-bandsEnergy()-33,48',\n",
              " 'fBodyAcc-bandsEnergy()-49,64',\n",
              " 'fBodyAcc-bandsEnergy()-1,24',\n",
              " 'fBodyAcc-bandsEnergy()-25,48',\n",
              " 'fBodyAcc-bandsEnergy()-1,8',\n",
              " 'fBodyAcc-bandsEnergy()-9,16',\n",
              " 'fBodyAcc-bandsEnergy()-17,24',\n",
              " 'fBodyAcc-bandsEnergy()-25,32',\n",
              " 'fBodyAcc-bandsEnergy()-33,40',\n",
              " 'fBodyAcc-bandsEnergy()-41,48',\n",
              " 'fBodyAcc-bandsEnergy()-49,56',\n",
              " 'fBodyAcc-bandsEnergy()-57,64',\n",
              " 'fBodyAcc-bandsEnergy()-1,16',\n",
              " 'fBodyAcc-bandsEnergy()-17,32',\n",
              " 'fBodyAcc-bandsEnergy()-33,48',\n",
              " 'fBodyAcc-bandsEnergy()-49,64',\n",
              " 'fBodyAcc-bandsEnergy()-1,24',\n",
              " 'fBodyAcc-bandsEnergy()-25,48',\n",
              " 'fBodyAcc-bandsEnergy()-1,8',\n",
              " 'fBodyAcc-bandsEnergy()-9,16',\n",
              " 'fBodyAcc-bandsEnergy()-17,24',\n",
              " 'fBodyAcc-bandsEnergy()-25,32',\n",
              " 'fBodyAcc-bandsEnergy()-33,40',\n",
              " 'fBodyAcc-bandsEnergy()-41,48',\n",
              " 'fBodyAcc-bandsEnergy()-49,56',\n",
              " 'fBodyAcc-bandsEnergy()-57,64',\n",
              " 'fBodyAcc-bandsEnergy()-1,16',\n",
              " 'fBodyAcc-bandsEnergy()-17,32',\n",
              " 'fBodyAcc-bandsEnergy()-33,48',\n",
              " 'fBodyAcc-bandsEnergy()-49,64',\n",
              " 'fBodyAcc-bandsEnergy()-1,24',\n",
              " 'fBodyAcc-bandsEnergy()-25,48',\n",
              " 'fBodyAccJerk-mean()-X',\n",
              " 'fBodyAccJerk-mean()-Y',\n",
              " 'fBodyAccJerk-mean()-Z',\n",
              " 'fBodyAccJerk-std()-X',\n",
              " 'fBodyAccJerk-std()-Y',\n",
              " 'fBodyAccJerk-std()-Z',\n",
              " 'fBodyAccJerk-mad()-X',\n",
              " 'fBodyAccJerk-mad()-Y',\n",
              " 'fBodyAccJerk-mad()-Z',\n",
              " 'fBodyAccJerk-max()-X',\n",
              " 'fBodyAccJerk-max()-Y',\n",
              " 'fBodyAccJerk-max()-Z',\n",
              " 'fBodyAccJerk-min()-X',\n",
              " 'fBodyAccJerk-min()-Y',\n",
              " 'fBodyAccJerk-min()-Z',\n",
              " 'fBodyAccJerk-sma()',\n",
              " 'fBodyAccJerk-energy()-X',\n",
              " 'fBodyAccJerk-energy()-Y',\n",
              " 'fBodyAccJerk-energy()-Z',\n",
              " 'fBodyAccJerk-iqr()-X',\n",
              " 'fBodyAccJerk-iqr()-Y',\n",
              " 'fBodyAccJerk-iqr()-Z',\n",
              " 'fBodyAccJerk-entropy()-X',\n",
              " 'fBodyAccJerk-entropy()-Y',\n",
              " 'fBodyAccJerk-entropy()-Z',\n",
              " 'fBodyAccJerk-maxInds-X',\n",
              " 'fBodyAccJerk-maxInds-Y',\n",
              " 'fBodyAccJerk-maxInds-Z',\n",
              " 'fBodyAccJerk-meanFreq()-X',\n",
              " 'fBodyAccJerk-meanFreq()-Y',\n",
              " 'fBodyAccJerk-meanFreq()-Z',\n",
              " 'fBodyAccJerk-skewness()-X',\n",
              " 'fBodyAccJerk-kurtosis()-X',\n",
              " 'fBodyAccJerk-skewness()-Y',\n",
              " 'fBodyAccJerk-kurtosis()-Y',\n",
              " 'fBodyAccJerk-skewness()-Z',\n",
              " 'fBodyAccJerk-kurtosis()-Z',\n",
              " 'fBodyAccJerk-bandsEnergy()-1,8',\n",
              " 'fBodyAccJerk-bandsEnergy()-9,16',\n",
              " 'fBodyAccJerk-bandsEnergy()-17,24',\n",
              " 'fBodyAccJerk-bandsEnergy()-25,32',\n",
              " 'fBodyAccJerk-bandsEnergy()-33,40',\n",
              " 'fBodyAccJerk-bandsEnergy()-41,48',\n",
              " 'fBodyAccJerk-bandsEnergy()-49,56',\n",
              " 'fBodyAccJerk-bandsEnergy()-57,64',\n",
              " 'fBodyAccJerk-bandsEnergy()-1,16',\n",
              " 'fBodyAccJerk-bandsEnergy()-17,32',\n",
              " 'fBodyAccJerk-bandsEnergy()-33,48',\n",
              " 'fBodyAccJerk-bandsEnergy()-49,64',\n",
              " 'fBodyAccJerk-bandsEnergy()-1,24',\n",
              " 'fBodyAccJerk-bandsEnergy()-25,48',\n",
              " 'fBodyAccJerk-bandsEnergy()-1,8',\n",
              " 'fBodyAccJerk-bandsEnergy()-9,16',\n",
              " 'fBodyAccJerk-bandsEnergy()-17,24',\n",
              " 'fBodyAccJerk-bandsEnergy()-25,32',\n",
              " 'fBodyAccJerk-bandsEnergy()-33,40',\n",
              " 'fBodyAccJerk-bandsEnergy()-41,48',\n",
              " 'fBodyAccJerk-bandsEnergy()-49,56',\n",
              " 'fBodyAccJerk-bandsEnergy()-57,64',\n",
              " 'fBodyAccJerk-bandsEnergy()-1,16',\n",
              " 'fBodyAccJerk-bandsEnergy()-17,32',\n",
              " 'fBodyAccJerk-bandsEnergy()-33,48',\n",
              " 'fBodyAccJerk-bandsEnergy()-49,64',\n",
              " 'fBodyAccJerk-bandsEnergy()-1,24',\n",
              " 'fBodyAccJerk-bandsEnergy()-25,48',\n",
              " 'fBodyAccJerk-bandsEnergy()-1,8',\n",
              " 'fBodyAccJerk-bandsEnergy()-9,16',\n",
              " 'fBodyAccJerk-bandsEnergy()-17,24',\n",
              " 'fBodyAccJerk-bandsEnergy()-25,32',\n",
              " 'fBodyAccJerk-bandsEnergy()-33,40',\n",
              " 'fBodyAccJerk-bandsEnergy()-41,48',\n",
              " 'fBodyAccJerk-bandsEnergy()-49,56',\n",
              " 'fBodyAccJerk-bandsEnergy()-57,64',\n",
              " 'fBodyAccJerk-bandsEnergy()-1,16',\n",
              " 'fBodyAccJerk-bandsEnergy()-17,32',\n",
              " 'fBodyAccJerk-bandsEnergy()-33,48',\n",
              " 'fBodyAccJerk-bandsEnergy()-49,64',\n",
              " 'fBodyAccJerk-bandsEnergy()-1,24',\n",
              " 'fBodyAccJerk-bandsEnergy()-25,48',\n",
              " 'fBodyGyro-mean()-X',\n",
              " 'fBodyGyro-mean()-Y',\n",
              " 'fBodyGyro-mean()-Z',\n",
              " 'fBodyGyro-std()-X',\n",
              " 'fBodyGyro-std()-Y',\n",
              " 'fBodyGyro-std()-Z',\n",
              " 'fBodyGyro-mad()-X',\n",
              " 'fBodyGyro-mad()-Y',\n",
              " 'fBodyGyro-mad()-Z',\n",
              " 'fBodyGyro-max()-X',\n",
              " 'fBodyGyro-max()-Y',\n",
              " 'fBodyGyro-max()-Z',\n",
              " 'fBodyGyro-min()-X',\n",
              " 'fBodyGyro-min()-Y',\n",
              " 'fBodyGyro-min()-Z',\n",
              " 'fBodyGyro-sma()',\n",
              " 'fBodyGyro-energy()-X',\n",
              " 'fBodyGyro-energy()-Y',\n",
              " 'fBodyGyro-energy()-Z',\n",
              " 'fBodyGyro-iqr()-X',\n",
              " 'fBodyGyro-iqr()-Y',\n",
              " 'fBodyGyro-iqr()-Z',\n",
              " 'fBodyGyro-entropy()-X',\n",
              " 'fBodyGyro-entropy()-Y',\n",
              " 'fBodyGyro-entropy()-Z',\n",
              " 'fBodyGyro-maxInds-X',\n",
              " 'fBodyGyro-maxInds-Y',\n",
              " 'fBodyGyro-maxInds-Z',\n",
              " 'fBodyGyro-meanFreq()-X',\n",
              " 'fBodyGyro-meanFreq()-Y',\n",
              " 'fBodyGyro-meanFreq()-Z',\n",
              " 'fBodyGyro-skewness()-X',\n",
              " 'fBodyGyro-kurtosis()-X',\n",
              " 'fBodyGyro-skewness()-Y',\n",
              " 'fBodyGyro-kurtosis()-Y',\n",
              " 'fBodyGyro-skewness()-Z',\n",
              " 'fBodyGyro-kurtosis()-Z',\n",
              " 'fBodyGyro-bandsEnergy()-1,8',\n",
              " 'fBodyGyro-bandsEnergy()-9,16',\n",
              " 'fBodyGyro-bandsEnergy()-17,24',\n",
              " 'fBodyGyro-bandsEnergy()-25,32',\n",
              " 'fBodyGyro-bandsEnergy()-33,40',\n",
              " 'fBodyGyro-bandsEnergy()-41,48',\n",
              " 'fBodyGyro-bandsEnergy()-49,56',\n",
              " 'fBodyGyro-bandsEnergy()-57,64',\n",
              " 'fBodyGyro-bandsEnergy()-1,16',\n",
              " 'fBodyGyro-bandsEnergy()-17,32',\n",
              " 'fBodyGyro-bandsEnergy()-33,48',\n",
              " 'fBodyGyro-bandsEnergy()-49,64',\n",
              " 'fBodyGyro-bandsEnergy()-1,24',\n",
              " 'fBodyGyro-bandsEnergy()-25,48',\n",
              " 'fBodyGyro-bandsEnergy()-1,8',\n",
              " 'fBodyGyro-bandsEnergy()-9,16',\n",
              " 'fBodyGyro-bandsEnergy()-17,24',\n",
              " 'fBodyGyro-bandsEnergy()-25,32',\n",
              " 'fBodyGyro-bandsEnergy()-33,40',\n",
              " 'fBodyGyro-bandsEnergy()-41,48',\n",
              " 'fBodyGyro-bandsEnergy()-49,56',\n",
              " 'fBodyGyro-bandsEnergy()-57,64',\n",
              " 'fBodyGyro-bandsEnergy()-1,16',\n",
              " 'fBodyGyro-bandsEnergy()-17,32',\n",
              " 'fBodyGyro-bandsEnergy()-33,48',\n",
              " 'fBodyGyro-bandsEnergy()-49,64',\n",
              " 'fBodyGyro-bandsEnergy()-1,24',\n",
              " 'fBodyGyro-bandsEnergy()-25,48',\n",
              " 'fBodyGyro-bandsEnergy()-1,8',\n",
              " 'fBodyGyro-bandsEnergy()-9,16',\n",
              " 'fBodyGyro-bandsEnergy()-17,24',\n",
              " 'fBodyGyro-bandsEnergy()-25,32',\n",
              " 'fBodyGyro-bandsEnergy()-33,40',\n",
              " 'fBodyGyro-bandsEnergy()-41,48',\n",
              " 'fBodyGyro-bandsEnergy()-49,56',\n",
              " 'fBodyGyro-bandsEnergy()-57,64',\n",
              " 'fBodyGyro-bandsEnergy()-1,16',\n",
              " 'fBodyGyro-bandsEnergy()-17,32',\n",
              " 'fBodyGyro-bandsEnergy()-33,48',\n",
              " 'fBodyGyro-bandsEnergy()-49,64',\n",
              " 'fBodyGyro-bandsEnergy()-1,24',\n",
              " 'fBodyGyro-bandsEnergy()-25,48',\n",
              " 'fBodyAccMag-mean()',\n",
              " 'fBodyAccMag-std()',\n",
              " 'fBodyAccMag-mad()',\n",
              " 'fBodyAccMag-max()',\n",
              " 'fBodyAccMag-min()',\n",
              " 'fBodyAccMag-sma()',\n",
              " 'fBodyAccMag-energy()',\n",
              " 'fBodyAccMag-iqr()',\n",
              " 'fBodyAccMag-entropy()',\n",
              " 'fBodyAccMag-maxInds',\n",
              " 'fBodyAccMag-meanFreq()',\n",
              " 'fBodyAccMag-skewness()',\n",
              " 'fBodyAccMag-kurtosis()',\n",
              " 'fBodyBodyAccJerkMag-mean()',\n",
              " 'fBodyBodyAccJerkMag-std()',\n",
              " 'fBodyBodyAccJerkMag-mad()',\n",
              " 'fBodyBodyAccJerkMag-max()',\n",
              " 'fBodyBodyAccJerkMag-min()',\n",
              " 'fBodyBodyAccJerkMag-sma()',\n",
              " 'fBodyBodyAccJerkMag-energy()',\n",
              " 'fBodyBodyAccJerkMag-iqr()',\n",
              " 'fBodyBodyAccJerkMag-entropy()',\n",
              " 'fBodyBodyAccJerkMag-maxInds',\n",
              " 'fBodyBodyAccJerkMag-meanFreq()',\n",
              " 'fBodyBodyAccJerkMag-skewness()',\n",
              " 'fBodyBodyAccJerkMag-kurtosis()',\n",
              " 'fBodyBodyGyroMag-mean()',\n",
              " 'fBodyBodyGyroMag-std()',\n",
              " 'fBodyBodyGyroMag-mad()',\n",
              " 'fBodyBodyGyroMag-max()',\n",
              " 'fBodyBodyGyroMag-min()',\n",
              " 'fBodyBodyGyroMag-sma()',\n",
              " 'fBodyBodyGyroMag-energy()',\n",
              " 'fBodyBodyGyroMag-iqr()',\n",
              " 'fBodyBodyGyroMag-entropy()',\n",
              " 'fBodyBodyGyroMag-maxInds',\n",
              " 'fBodyBodyGyroMag-meanFreq()',\n",
              " 'fBodyBodyGyroMag-skewness()',\n",
              " 'fBodyBodyGyroMag-kurtosis()',\n",
              " 'fBodyBodyGyroJerkMag-mean()',\n",
              " 'fBodyBodyGyroJerkMag-std()',\n",
              " 'fBodyBodyGyroJerkMag-mad()',\n",
              " 'fBodyBodyGyroJerkMag-max()',\n",
              " 'fBodyBodyGyroJerkMag-min()',\n",
              " 'fBodyBodyGyroJerkMag-sma()',\n",
              " 'fBodyBodyGyroJerkMag-energy()',\n",
              " 'fBodyBodyGyroJerkMag-iqr()',\n",
              " 'fBodyBodyGyroJerkMag-entropy()',\n",
              " 'fBodyBodyGyroJerkMag-maxInds',\n",
              " 'fBodyBodyGyroJerkMag-meanFreq()',\n",
              " 'fBodyBodyGyroJerkMag-skewness()',\n",
              " 'fBodyBodyGyroJerkMag-kurtosis()',\n",
              " 'angle(tBodyAccMean,gravity)',\n",
              " 'angle(tBodyAccJerkMean),gravityMean)',\n",
              " 'angle(tBodyGyroMean,gravityMean)',\n",
              " 'angle(tBodyGyroJerkMean,gravityMean)',\n",
              " 'angle(X,gravityMean)',\n",
              " 'angle(Y,gravityMean)',\n",
              " 'angle(Z,gravityMean)']"
            ]
          },
          "metadata": {
            "tags": []
          },
          "execution_count": 6
        }
      ]
    },
    {
      "cell_type": "code",
      "metadata": {
        "id": "PcqrH-xyMq6J"
      },
      "source": [
        "test_df = pd.read_csv(\"UCI HAR Dataset/test/X_test.txt\", delim_whitespace = True,names=list(range(0,561)))\r\n",
        "\r\n",
        "test_df['Subject'] = pd.read_csv(\"UCI HAR Dataset/test/subject_test.txt\", header = None, squeeze = True)\r\n",
        "\r\n",
        "test_df[\"activity\"] = pd.read_csv(\"UCI HAR Dataset/test/y_test.txt\", header = None, squeeze = True)\r\n"
      ],
      "execution_count": 7,
      "outputs": []
    },
    {
      "cell_type": "code",
      "metadata": {
        "colab": {
          "base_uri": "https://localhost:8080/",
          "height": 427
        },
        "id": "G7Alc3FSN2Hd",
        "outputId": "c88402f5-8758-4e06-b3a5-ddca49830bef"
      },
      "source": [
        "test_df"
      ],
      "execution_count": 8,
      "outputs": [
        {
          "output_type": "execute_result",
          "data": {
            "text/html": [
              "<div>\n",
              "<style scoped>\n",
              "    .dataframe tbody tr th:only-of-type {\n",
              "        vertical-align: middle;\n",
              "    }\n",
              "\n",
              "    .dataframe tbody tr th {\n",
              "        vertical-align: top;\n",
              "    }\n",
              "\n",
              "    .dataframe thead th {\n",
              "        text-align: right;\n",
              "    }\n",
              "</style>\n",
              "<table border=\"1\" class=\"dataframe\">\n",
              "  <thead>\n",
              "    <tr style=\"text-align: right;\">\n",
              "      <th></th>\n",
              "      <th>0</th>\n",
              "      <th>1</th>\n",
              "      <th>2</th>\n",
              "      <th>3</th>\n",
              "      <th>4</th>\n",
              "      <th>5</th>\n",
              "      <th>6</th>\n",
              "      <th>7</th>\n",
              "      <th>8</th>\n",
              "      <th>9</th>\n",
              "      <th>10</th>\n",
              "      <th>11</th>\n",
              "      <th>12</th>\n",
              "      <th>13</th>\n",
              "      <th>14</th>\n",
              "      <th>15</th>\n",
              "      <th>16</th>\n",
              "      <th>17</th>\n",
              "      <th>18</th>\n",
              "      <th>19</th>\n",
              "      <th>20</th>\n",
              "      <th>21</th>\n",
              "      <th>22</th>\n",
              "      <th>23</th>\n",
              "      <th>24</th>\n",
              "      <th>25</th>\n",
              "      <th>26</th>\n",
              "      <th>27</th>\n",
              "      <th>28</th>\n",
              "      <th>29</th>\n",
              "      <th>30</th>\n",
              "      <th>31</th>\n",
              "      <th>32</th>\n",
              "      <th>33</th>\n",
              "      <th>34</th>\n",
              "      <th>35</th>\n",
              "      <th>36</th>\n",
              "      <th>37</th>\n",
              "      <th>38</th>\n",
              "      <th>39</th>\n",
              "      <th>...</th>\n",
              "      <th>523</th>\n",
              "      <th>524</th>\n",
              "      <th>525</th>\n",
              "      <th>526</th>\n",
              "      <th>527</th>\n",
              "      <th>528</th>\n",
              "      <th>529</th>\n",
              "      <th>530</th>\n",
              "      <th>531</th>\n",
              "      <th>532</th>\n",
              "      <th>533</th>\n",
              "      <th>534</th>\n",
              "      <th>535</th>\n",
              "      <th>536</th>\n",
              "      <th>537</th>\n",
              "      <th>538</th>\n",
              "      <th>539</th>\n",
              "      <th>540</th>\n",
              "      <th>541</th>\n",
              "      <th>542</th>\n",
              "      <th>543</th>\n",
              "      <th>544</th>\n",
              "      <th>545</th>\n",
              "      <th>546</th>\n",
              "      <th>547</th>\n",
              "      <th>548</th>\n",
              "      <th>549</th>\n",
              "      <th>550</th>\n",
              "      <th>551</th>\n",
              "      <th>552</th>\n",
              "      <th>553</th>\n",
              "      <th>554</th>\n",
              "      <th>555</th>\n",
              "      <th>556</th>\n",
              "      <th>557</th>\n",
              "      <th>558</th>\n",
              "      <th>559</th>\n",
              "      <th>560</th>\n",
              "      <th>Subject</th>\n",
              "      <th>activity</th>\n",
              "    </tr>\n",
              "  </thead>\n",
              "  <tbody>\n",
              "    <tr>\n",
              "      <th>0</th>\n",
              "      <td>0.257178</td>\n",
              "      <td>-0.023285</td>\n",
              "      <td>-0.014654</td>\n",
              "      <td>-0.938404</td>\n",
              "      <td>-0.920091</td>\n",
              "      <td>-0.667683</td>\n",
              "      <td>-0.952501</td>\n",
              "      <td>-0.925249</td>\n",
              "      <td>-0.674302</td>\n",
              "      <td>-0.894088</td>\n",
              "      <td>-0.554577</td>\n",
              "      <td>-0.466223</td>\n",
              "      <td>0.717208</td>\n",
              "      <td>0.635502</td>\n",
              "      <td>0.789497</td>\n",
              "      <td>-0.877764</td>\n",
              "      <td>-0.997766</td>\n",
              "      <td>-0.998414</td>\n",
              "      <td>-0.934345</td>\n",
              "      <td>-0.975669</td>\n",
              "      <td>-0.949824</td>\n",
              "      <td>-0.830478</td>\n",
              "      <td>-0.168084</td>\n",
              "      <td>-0.378996</td>\n",
              "      <td>0.246217</td>\n",
              "      <td>0.521204</td>\n",
              "      <td>-0.487793</td>\n",
              "      <td>0.482280</td>\n",
              "      <td>-0.045462</td>\n",
              "      <td>0.211955</td>\n",
              "      <td>-0.134894</td>\n",
              "      <td>0.130858</td>\n",
              "      <td>-0.014176</td>\n",
              "      <td>-0.105971</td>\n",
              "      <td>0.073544</td>\n",
              "      <td>-0.171516</td>\n",
              "      <td>0.040063</td>\n",
              "      <td>0.076989</td>\n",
              "      <td>-0.490546</td>\n",
              "      <td>-0.709003</td>\n",
              "      <td>...</td>\n",
              "      <td>-0.484619</td>\n",
              "      <td>-1.000000</td>\n",
              "      <td>-0.035356</td>\n",
              "      <td>-0.254248</td>\n",
              "      <td>-0.700326</td>\n",
              "      <td>-0.770610</td>\n",
              "      <td>-0.797113</td>\n",
              "      <td>-0.764485</td>\n",
              "      <td>-0.820188</td>\n",
              "      <td>-0.937959</td>\n",
              "      <td>-0.770610</td>\n",
              "      <td>-0.970958</td>\n",
              "      <td>-0.798387</td>\n",
              "      <td>0.179435</td>\n",
              "      <td>-1.000000</td>\n",
              "      <td>-0.047391</td>\n",
              "      <td>-0.467849</td>\n",
              "      <td>-0.761326</td>\n",
              "      <td>-0.890165</td>\n",
              "      <td>-0.907308</td>\n",
              "      <td>-0.895301</td>\n",
              "      <td>-0.917883</td>\n",
              "      <td>-0.909829</td>\n",
              "      <td>-0.890165</td>\n",
              "      <td>-0.994105</td>\n",
              "      <td>-0.898022</td>\n",
              "      <td>-0.234815</td>\n",
              "      <td>-1.000000</td>\n",
              "      <td>0.071645</td>\n",
              "      <td>-0.330370</td>\n",
              "      <td>-0.705974</td>\n",
              "      <td>0.006462</td>\n",
              "      <td>0.162920</td>\n",
              "      <td>-0.825886</td>\n",
              "      <td>0.271151</td>\n",
              "      <td>-0.720009</td>\n",
              "      <td>0.276801</td>\n",
              "      <td>-0.057978</td>\n",
              "      <td>2</td>\n",
              "      <td>5</td>\n",
              "    </tr>\n",
              "    <tr>\n",
              "      <th>1</th>\n",
              "      <td>0.286027</td>\n",
              "      <td>-0.013163</td>\n",
              "      <td>-0.119083</td>\n",
              "      <td>-0.975415</td>\n",
              "      <td>-0.967458</td>\n",
              "      <td>-0.944958</td>\n",
              "      <td>-0.986799</td>\n",
              "      <td>-0.968401</td>\n",
              "      <td>-0.945823</td>\n",
              "      <td>-0.894088</td>\n",
              "      <td>-0.554577</td>\n",
              "      <td>-0.806013</td>\n",
              "      <td>0.768031</td>\n",
              "      <td>0.683698</td>\n",
              "      <td>0.796706</td>\n",
              "      <td>-0.969097</td>\n",
              "      <td>-0.999580</td>\n",
              "      <td>-0.999646</td>\n",
              "      <td>-0.997720</td>\n",
              "      <td>-0.994006</td>\n",
              "      <td>-0.973637</td>\n",
              "      <td>-0.950720</td>\n",
              "      <td>-0.302437</td>\n",
              "      <td>-0.348243</td>\n",
              "      <td>-0.404785</td>\n",
              "      <td>0.507492</td>\n",
              "      <td>-0.156495</td>\n",
              "      <td>0.040674</td>\n",
              "      <td>0.272991</td>\n",
              "      <td>0.197566</td>\n",
              "      <td>-0.194556</td>\n",
              "      <td>0.411411</td>\n",
              "      <td>-0.340466</td>\n",
              "      <td>0.077555</td>\n",
              "      <td>-0.084024</td>\n",
              "      <td>0.035305</td>\n",
              "      <td>-0.010083</td>\n",
              "      <td>-0.104983</td>\n",
              "      <td>-0.429134</td>\n",
              "      <td>0.399177</td>\n",
              "      <td>...</td>\n",
              "      <td>-0.723642</td>\n",
              "      <td>-1.000000</td>\n",
              "      <td>-0.491213</td>\n",
              "      <td>-0.215404</td>\n",
              "      <td>-0.666004</td>\n",
              "      <td>-0.924461</td>\n",
              "      <td>-0.916774</td>\n",
              "      <td>-0.919383</td>\n",
              "      <td>-0.917983</td>\n",
              "      <td>-0.991121</td>\n",
              "      <td>-0.924461</td>\n",
              "      <td>-0.995727</td>\n",
              "      <td>-0.933127</td>\n",
              "      <td>-0.218860</td>\n",
              "      <td>-1.000000</td>\n",
              "      <td>-0.031474</td>\n",
              "      <td>-0.090655</td>\n",
              "      <td>-0.461801</td>\n",
              "      <td>-0.951977</td>\n",
              "      <td>-0.938212</td>\n",
              "      <td>-0.938008</td>\n",
              "      <td>-0.949922</td>\n",
              "      <td>-0.986902</td>\n",
              "      <td>-0.951977</td>\n",
              "      <td>-0.998272</td>\n",
              "      <td>-0.951255</td>\n",
              "      <td>-0.431053</td>\n",
              "      <td>-1.000000</td>\n",
              "      <td>-0.401189</td>\n",
              "      <td>-0.121845</td>\n",
              "      <td>-0.594944</td>\n",
              "      <td>-0.083495</td>\n",
              "      <td>0.017500</td>\n",
              "      <td>-0.434375</td>\n",
              "      <td>0.920593</td>\n",
              "      <td>-0.698091</td>\n",
              "      <td>0.281343</td>\n",
              "      <td>-0.083898</td>\n",
              "      <td>2</td>\n",
              "      <td>5</td>\n",
              "    </tr>\n",
              "    <tr>\n",
              "      <th>2</th>\n",
              "      <td>0.275485</td>\n",
              "      <td>-0.026050</td>\n",
              "      <td>-0.118152</td>\n",
              "      <td>-0.993819</td>\n",
              "      <td>-0.969926</td>\n",
              "      <td>-0.962748</td>\n",
              "      <td>-0.994403</td>\n",
              "      <td>-0.970735</td>\n",
              "      <td>-0.963483</td>\n",
              "      <td>-0.939260</td>\n",
              "      <td>-0.568512</td>\n",
              "      <td>-0.799116</td>\n",
              "      <td>0.848305</td>\n",
              "      <td>0.667864</td>\n",
              "      <td>0.822442</td>\n",
              "      <td>-0.976782</td>\n",
              "      <td>-0.999954</td>\n",
              "      <td>-0.999570</td>\n",
              "      <td>-0.998720</td>\n",
              "      <td>-0.993456</td>\n",
              "      <td>-0.974266</td>\n",
              "      <td>-0.964976</td>\n",
              "      <td>-0.617916</td>\n",
              "      <td>-0.695490</td>\n",
              "      <td>-0.536693</td>\n",
              "      <td>0.242147</td>\n",
              "      <td>-0.114997</td>\n",
              "      <td>0.032703</td>\n",
              "      <td>0.192385</td>\n",
              "      <td>-0.011945</td>\n",
              "      <td>-0.063363</td>\n",
              "      <td>0.470819</td>\n",
              "      <td>-0.507395</td>\n",
              "      <td>0.188536</td>\n",
              "      <td>-0.231575</td>\n",
              "      <td>0.632120</td>\n",
              "      <td>-0.550708</td>\n",
              "      <td>0.305653</td>\n",
              "      <td>-0.323848</td>\n",
              "      <td>0.279786</td>\n",
              "      <td>...</td>\n",
              "      <td>-0.898000</td>\n",
              "      <td>-1.000000</td>\n",
              "      <td>0.140729</td>\n",
              "      <td>-0.206062</td>\n",
              "      <td>-0.639809</td>\n",
              "      <td>-0.975209</td>\n",
              "      <td>-0.973998</td>\n",
              "      <td>-0.967097</td>\n",
              "      <td>-0.982849</td>\n",
              "      <td>-0.997663</td>\n",
              "      <td>-0.975209</td>\n",
              "      <td>-0.999504</td>\n",
              "      <td>-0.968260</td>\n",
              "      <td>-0.561266</td>\n",
              "      <td>-0.897436</td>\n",
              "      <td>-0.168805</td>\n",
              "      <td>-0.662317</td>\n",
              "      <td>-0.925364</td>\n",
              "      <td>-0.985689</td>\n",
              "      <td>-0.983273</td>\n",
              "      <td>-0.983422</td>\n",
              "      <td>-0.986857</td>\n",
              "      <td>-0.989609</td>\n",
              "      <td>-0.985689</td>\n",
              "      <td>-0.999831</td>\n",
              "      <td>-0.986148</td>\n",
              "      <td>-0.809976</td>\n",
              "      <td>-0.936508</td>\n",
              "      <td>0.062891</td>\n",
              "      <td>-0.190422</td>\n",
              "      <td>-0.640736</td>\n",
              "      <td>-0.034956</td>\n",
              "      <td>0.202302</td>\n",
              "      <td>0.064103</td>\n",
              "      <td>0.145068</td>\n",
              "      <td>-0.702771</td>\n",
              "      <td>0.280083</td>\n",
              "      <td>-0.079346</td>\n",
              "      <td>2</td>\n",
              "      <td>5</td>\n",
              "    </tr>\n",
              "    <tr>\n",
              "      <th>3</th>\n",
              "      <td>0.270298</td>\n",
              "      <td>-0.032614</td>\n",
              "      <td>-0.117520</td>\n",
              "      <td>-0.994743</td>\n",
              "      <td>-0.973268</td>\n",
              "      <td>-0.967091</td>\n",
              "      <td>-0.995274</td>\n",
              "      <td>-0.974471</td>\n",
              "      <td>-0.968897</td>\n",
              "      <td>-0.938610</td>\n",
              "      <td>-0.568512</td>\n",
              "      <td>-0.799116</td>\n",
              "      <td>0.848305</td>\n",
              "      <td>0.667864</td>\n",
              "      <td>0.822442</td>\n",
              "      <td>-0.974418</td>\n",
              "      <td>-0.999953</td>\n",
              "      <td>-0.999330</td>\n",
              "      <td>-0.998933</td>\n",
              "      <td>-0.995236</td>\n",
              "      <td>-0.978739</td>\n",
              "      <td>-0.969982</td>\n",
              "      <td>-0.749578</td>\n",
              "      <td>-0.899226</td>\n",
              "      <td>-0.553813</td>\n",
              "      <td>0.174684</td>\n",
              "      <td>-0.051332</td>\n",
              "      <td>0.034200</td>\n",
              "      <td>0.153639</td>\n",
              "      <td>0.030767</td>\n",
              "      <td>-0.129277</td>\n",
              "      <td>0.446100</td>\n",
              "      <td>-0.419496</td>\n",
              "      <td>0.271493</td>\n",
              "      <td>-0.225769</td>\n",
              "      <td>0.416376</td>\n",
              "      <td>-0.286445</td>\n",
              "      <td>-0.063792</td>\n",
              "      <td>-0.167111</td>\n",
              "      <td>0.544916</td>\n",
              "      <td>...</td>\n",
              "      <td>-1.000000</td>\n",
              "      <td>-0.968254</td>\n",
              "      <td>0.148649</td>\n",
              "      <td>-0.619905</td>\n",
              "      <td>-0.887178</td>\n",
              "      <td>-0.976297</td>\n",
              "      <td>-0.971248</td>\n",
              "      <td>-0.966029</td>\n",
              "      <td>-0.974878</td>\n",
              "      <td>-0.996129</td>\n",
              "      <td>-0.976297</td>\n",
              "      <td>-0.999458</td>\n",
              "      <td>-0.975174</td>\n",
              "      <td>-0.566733</td>\n",
              "      <td>-0.948718</td>\n",
              "      <td>-0.285636</td>\n",
              "      <td>-0.446478</td>\n",
              "      <td>-0.756855</td>\n",
              "      <td>-0.985562</td>\n",
              "      <td>-0.985843</td>\n",
              "      <td>-0.984217</td>\n",
              "      <td>-0.988566</td>\n",
              "      <td>-0.992021</td>\n",
              "      <td>-0.985562</td>\n",
              "      <td>-0.999850</td>\n",
              "      <td>-0.984015</td>\n",
              "      <td>-0.849081</td>\n",
              "      <td>-0.936508</td>\n",
              "      <td>0.116695</td>\n",
              "      <td>-0.344418</td>\n",
              "      <td>-0.736124</td>\n",
              "      <td>-0.017067</td>\n",
              "      <td>0.154438</td>\n",
              "      <td>0.340134</td>\n",
              "      <td>0.296407</td>\n",
              "      <td>-0.698954</td>\n",
              "      <td>0.284114</td>\n",
              "      <td>-0.077108</td>\n",
              "      <td>2</td>\n",
              "      <td>5</td>\n",
              "    </tr>\n",
              "    <tr>\n",
              "      <th>4</th>\n",
              "      <td>0.274833</td>\n",
              "      <td>-0.027848</td>\n",
              "      <td>-0.129527</td>\n",
              "      <td>-0.993852</td>\n",
              "      <td>-0.967445</td>\n",
              "      <td>-0.978295</td>\n",
              "      <td>-0.994111</td>\n",
              "      <td>-0.965953</td>\n",
              "      <td>-0.977346</td>\n",
              "      <td>-0.938610</td>\n",
              "      <td>-0.560831</td>\n",
              "      <td>-0.825894</td>\n",
              "      <td>0.849179</td>\n",
              "      <td>0.670700</td>\n",
              "      <td>0.829897</td>\n",
              "      <td>-0.975283</td>\n",
              "      <td>-0.999954</td>\n",
              "      <td>-0.999467</td>\n",
              "      <td>-0.998823</td>\n",
              "      <td>-0.993498</td>\n",
              "      <td>-0.967032</td>\n",
              "      <td>-0.976257</td>\n",
              "      <td>-0.590576</td>\n",
              "      <td>-0.740206</td>\n",
              "      <td>-0.799419</td>\n",
              "      <td>0.115570</td>\n",
              "      <td>-0.028923</td>\n",
              "      <td>-0.032804</td>\n",
              "      <td>0.294340</td>\n",
              "      <td>0.000630</td>\n",
              "      <td>-0.045272</td>\n",
              "      <td>0.168419</td>\n",
              "      <td>-0.068156</td>\n",
              "      <td>0.074384</td>\n",
              "      <td>0.027138</td>\n",
              "      <td>-0.145931</td>\n",
              "      <td>-0.050197</td>\n",
              "      <td>0.235151</td>\n",
              "      <td>0.290487</td>\n",
              "      <td>0.457718</td>\n",
              "      <td>...</td>\n",
              "      <td>-1.000000</td>\n",
              "      <td>-0.809524</td>\n",
              "      <td>0.422249</td>\n",
              "      <td>-0.543096</td>\n",
              "      <td>-0.831313</td>\n",
              "      <td>-0.977007</td>\n",
              "      <td>-0.969619</td>\n",
              "      <td>-0.968915</td>\n",
              "      <td>-0.973746</td>\n",
              "      <td>-0.996970</td>\n",
              "      <td>-0.977007</td>\n",
              "      <td>-0.999429</td>\n",
              "      <td>-0.976111</td>\n",
              "      <td>-0.555564</td>\n",
              "      <td>-1.000000</td>\n",
              "      <td>-0.349061</td>\n",
              "      <td>-0.319763</td>\n",
              "      <td>-0.691739</td>\n",
              "      <td>-0.990498</td>\n",
              "      <td>-0.990572</td>\n",
              "      <td>-0.988406</td>\n",
              "      <td>-0.992653</td>\n",
              "      <td>-0.992505</td>\n",
              "      <td>-0.990498</td>\n",
              "      <td>-0.999925</td>\n",
              "      <td>-0.986376</td>\n",
              "      <td>-0.895847</td>\n",
              "      <td>-0.936508</td>\n",
              "      <td>-0.121711</td>\n",
              "      <td>-0.534685</td>\n",
              "      <td>-0.846595</td>\n",
              "      <td>-0.002223</td>\n",
              "      <td>-0.040046</td>\n",
              "      <td>0.736715</td>\n",
              "      <td>-0.118545</td>\n",
              "      <td>-0.692245</td>\n",
              "      <td>0.290722</td>\n",
              "      <td>-0.073857</td>\n",
              "      <td>2</td>\n",
              "      <td>5</td>\n",
              "    </tr>\n",
              "    <tr>\n",
              "      <th>...</th>\n",
              "      <td>...</td>\n",
              "      <td>...</td>\n",
              "      <td>...</td>\n",
              "      <td>...</td>\n",
              "      <td>...</td>\n",
              "      <td>...</td>\n",
              "      <td>...</td>\n",
              "      <td>...</td>\n",
              "      <td>...</td>\n",
              "      <td>...</td>\n",
              "      <td>...</td>\n",
              "      <td>...</td>\n",
              "      <td>...</td>\n",
              "      <td>...</td>\n",
              "      <td>...</td>\n",
              "      <td>...</td>\n",
              "      <td>...</td>\n",
              "      <td>...</td>\n",
              "      <td>...</td>\n",
              "      <td>...</td>\n",
              "      <td>...</td>\n",
              "      <td>...</td>\n",
              "      <td>...</td>\n",
              "      <td>...</td>\n",
              "      <td>...</td>\n",
              "      <td>...</td>\n",
              "      <td>...</td>\n",
              "      <td>...</td>\n",
              "      <td>...</td>\n",
              "      <td>...</td>\n",
              "      <td>...</td>\n",
              "      <td>...</td>\n",
              "      <td>...</td>\n",
              "      <td>...</td>\n",
              "      <td>...</td>\n",
              "      <td>...</td>\n",
              "      <td>...</td>\n",
              "      <td>...</td>\n",
              "      <td>...</td>\n",
              "      <td>...</td>\n",
              "      <td>...</td>\n",
              "      <td>...</td>\n",
              "      <td>...</td>\n",
              "      <td>...</td>\n",
              "      <td>...</td>\n",
              "      <td>...</td>\n",
              "      <td>...</td>\n",
              "      <td>...</td>\n",
              "      <td>...</td>\n",
              "      <td>...</td>\n",
              "      <td>...</td>\n",
              "      <td>...</td>\n",
              "      <td>...</td>\n",
              "      <td>...</td>\n",
              "      <td>...</td>\n",
              "      <td>...</td>\n",
              "      <td>...</td>\n",
              "      <td>...</td>\n",
              "      <td>...</td>\n",
              "      <td>...</td>\n",
              "      <td>...</td>\n",
              "      <td>...</td>\n",
              "      <td>...</td>\n",
              "      <td>...</td>\n",
              "      <td>...</td>\n",
              "      <td>...</td>\n",
              "      <td>...</td>\n",
              "      <td>...</td>\n",
              "      <td>...</td>\n",
              "      <td>...</td>\n",
              "      <td>...</td>\n",
              "      <td>...</td>\n",
              "      <td>...</td>\n",
              "      <td>...</td>\n",
              "      <td>...</td>\n",
              "      <td>...</td>\n",
              "      <td>...</td>\n",
              "      <td>...</td>\n",
              "      <td>...</td>\n",
              "      <td>...</td>\n",
              "      <td>...</td>\n",
              "    </tr>\n",
              "    <tr>\n",
              "      <th>2942</th>\n",
              "      <td>0.310155</td>\n",
              "      <td>-0.053391</td>\n",
              "      <td>-0.099109</td>\n",
              "      <td>-0.287866</td>\n",
              "      <td>-0.140589</td>\n",
              "      <td>-0.215088</td>\n",
              "      <td>-0.356083</td>\n",
              "      <td>-0.148775</td>\n",
              "      <td>-0.232057</td>\n",
              "      <td>0.185361</td>\n",
              "      <td>-0.160309</td>\n",
              "      <td>-0.131106</td>\n",
              "      <td>0.354922</td>\n",
              "      <td>0.188452</td>\n",
              "      <td>0.362922</td>\n",
              "      <td>-0.197803</td>\n",
              "      <td>-0.744913</td>\n",
              "      <td>-0.854291</td>\n",
              "      <td>-0.721311</td>\n",
              "      <td>-0.567761</td>\n",
              "      <td>-0.368876</td>\n",
              "      <td>-0.277531</td>\n",
              "      <td>0.128951</td>\n",
              "      <td>0.250479</td>\n",
              "      <td>0.204483</td>\n",
              "      <td>-0.336571</td>\n",
              "      <td>0.119363</td>\n",
              "      <td>0.114556</td>\n",
              "      <td>0.069925</td>\n",
              "      <td>-0.225460</td>\n",
              "      <td>0.131274</td>\n",
              "      <td>0.013961</td>\n",
              "      <td>0.163305</td>\n",
              "      <td>-0.510918</td>\n",
              "      <td>0.525957</td>\n",
              "      <td>-0.467399</td>\n",
              "      <td>0.117754</td>\n",
              "      <td>-0.258908</td>\n",
              "      <td>-0.310537</td>\n",
              "      <td>-0.022682</td>\n",
              "      <td>...</td>\n",
              "      <td>0.214449</td>\n",
              "      <td>-0.904762</td>\n",
              "      <td>-0.110967</td>\n",
              "      <td>-0.157943</td>\n",
              "      <td>-0.583573</td>\n",
              "      <td>-0.477844</td>\n",
              "      <td>-0.571234</td>\n",
              "      <td>-0.515544</td>\n",
              "      <td>-0.605614</td>\n",
              "      <td>-0.861894</td>\n",
              "      <td>-0.477844</td>\n",
              "      <td>-0.862898</td>\n",
              "      <td>-0.498796</td>\n",
              "      <td>0.491522</td>\n",
              "      <td>-0.897436</td>\n",
              "      <td>0.093839</td>\n",
              "      <td>-0.410787</td>\n",
              "      <td>-0.711904</td>\n",
              "      <td>-0.601424</td>\n",
              "      <td>-0.618829</td>\n",
              "      <td>-0.558146</td>\n",
              "      <td>-0.698564</td>\n",
              "      <td>-0.770173</td>\n",
              "      <td>-0.601424</td>\n",
              "      <td>-0.917701</td>\n",
              "      <td>-0.536164</td>\n",
              "      <td>0.365783</td>\n",
              "      <td>-0.904762</td>\n",
              "      <td>0.074472</td>\n",
              "      <td>-0.376278</td>\n",
              "      <td>-0.750809</td>\n",
              "      <td>-0.337422</td>\n",
              "      <td>0.346295</td>\n",
              "      <td>0.884904</td>\n",
              "      <td>-0.698885</td>\n",
              "      <td>-0.651732</td>\n",
              "      <td>0.274627</td>\n",
              "      <td>0.184784</td>\n",
              "      <td>24</td>\n",
              "      <td>2</td>\n",
              "    </tr>\n",
              "    <tr>\n",
              "      <th>2943</th>\n",
              "      <td>0.363385</td>\n",
              "      <td>-0.039214</td>\n",
              "      <td>-0.105915</td>\n",
              "      <td>-0.305388</td>\n",
              "      <td>0.028148</td>\n",
              "      <td>-0.196373</td>\n",
              "      <td>-0.373540</td>\n",
              "      <td>-0.030036</td>\n",
              "      <td>-0.270237</td>\n",
              "      <td>0.185361</td>\n",
              "      <td>-0.035922</td>\n",
              "      <td>-0.131106</td>\n",
              "      <td>0.414650</td>\n",
              "      <td>-0.021580</td>\n",
              "      <td>0.218490</td>\n",
              "      <td>-0.186842</td>\n",
              "      <td>-0.755958</td>\n",
              "      <td>-0.794744</td>\n",
              "      <td>-0.708265</td>\n",
              "      <td>-0.549364</td>\n",
              "      <td>-0.353944</td>\n",
              "      <td>-0.386571</td>\n",
              "      <td>0.311991</td>\n",
              "      <td>0.277052</td>\n",
              "      <td>0.112971</td>\n",
              "      <td>-0.141648</td>\n",
              "      <td>-0.020623</td>\n",
              "      <td>0.124019</td>\n",
              "      <td>0.133963</td>\n",
              "      <td>-0.171622</td>\n",
              "      <td>0.087886</td>\n",
              "      <td>0.070093</td>\n",
              "      <td>0.085764</td>\n",
              "      <td>-0.416882</td>\n",
              "      <td>0.387530</td>\n",
              "      <td>-0.225698</td>\n",
              "      <td>-0.039828</td>\n",
              "      <td>-0.249325</td>\n",
              "      <td>-0.293864</td>\n",
              "      <td>0.031417</td>\n",
              "      <td>...</td>\n",
              "      <td>0.267662</td>\n",
              "      <td>-0.904762</td>\n",
              "      <td>0.125434</td>\n",
              "      <td>-0.223759</td>\n",
              "      <td>-0.689000</td>\n",
              "      <td>-0.491855</td>\n",
              "      <td>-0.556577</td>\n",
              "      <td>-0.525429</td>\n",
              "      <td>-0.664599</td>\n",
              "      <td>-0.682096</td>\n",
              "      <td>-0.491855</td>\n",
              "      <td>-0.861670</td>\n",
              "      <td>-0.639320</td>\n",
              "      <td>0.469640</td>\n",
              "      <td>-1.000000</td>\n",
              "      <td>0.092162</td>\n",
              "      <td>-0.449349</td>\n",
              "      <td>-0.795229</td>\n",
              "      <td>-0.566344</td>\n",
              "      <td>-0.592507</td>\n",
              "      <td>-0.530253</td>\n",
              "      <td>-0.662435</td>\n",
              "      <td>-0.947627</td>\n",
              "      <td>-0.566344</td>\n",
              "      <td>-0.904083</td>\n",
              "      <td>-0.534418</td>\n",
              "      <td>0.402907</td>\n",
              "      <td>-0.904762</td>\n",
              "      <td>0.101859</td>\n",
              "      <td>-0.320418</td>\n",
              "      <td>-0.700274</td>\n",
              "      <td>-0.736701</td>\n",
              "      <td>-0.372889</td>\n",
              "      <td>-0.657421</td>\n",
              "      <td>0.322549</td>\n",
              "      <td>-0.655181</td>\n",
              "      <td>0.273578</td>\n",
              "      <td>0.182412</td>\n",
              "      <td>24</td>\n",
              "      <td>2</td>\n",
              "    </tr>\n",
              "    <tr>\n",
              "      <th>2944</th>\n",
              "      <td>0.349966</td>\n",
              "      <td>0.030077</td>\n",
              "      <td>-0.115788</td>\n",
              "      <td>-0.329638</td>\n",
              "      <td>-0.042143</td>\n",
              "      <td>-0.250181</td>\n",
              "      <td>-0.388017</td>\n",
              "      <td>-0.133257</td>\n",
              "      <td>-0.347029</td>\n",
              "      <td>0.007471</td>\n",
              "      <td>-0.035922</td>\n",
              "      <td>-0.172677</td>\n",
              "      <td>0.402517</td>\n",
              "      <td>-0.021580</td>\n",
              "      <td>0.218490</td>\n",
              "      <td>-0.232233</td>\n",
              "      <td>-0.772925</td>\n",
              "      <td>-0.818344</td>\n",
              "      <td>-0.745217</td>\n",
              "      <td>-0.536007</td>\n",
              "      <td>-0.527129</td>\n",
              "      <td>-0.560587</td>\n",
              "      <td>0.342902</td>\n",
              "      <td>0.411568</td>\n",
              "      <td>0.167789</td>\n",
              "      <td>-0.093074</td>\n",
              "      <td>-0.146011</td>\n",
              "      <td>0.400424</td>\n",
              "      <td>-0.123618</td>\n",
              "      <td>-0.117599</td>\n",
              "      <td>0.006040</td>\n",
              "      <td>0.170446</td>\n",
              "      <td>0.047362</td>\n",
              "      <td>-0.204792</td>\n",
              "      <td>0.077011</td>\n",
              "      <td>0.291691</td>\n",
              "      <td>-0.347075</td>\n",
              "      <td>-0.351080</td>\n",
              "      <td>-0.417738</td>\n",
              "      <td>0.118835</td>\n",
              "      <td>...</td>\n",
              "      <td>0.239540</td>\n",
              "      <td>-0.904762</td>\n",
              "      <td>0.111669</td>\n",
              "      <td>0.182278</td>\n",
              "      <td>-0.095859</td>\n",
              "      <td>-0.601283</td>\n",
              "      <td>-0.563327</td>\n",
              "      <td>-0.557262</td>\n",
              "      <td>-0.619462</td>\n",
              "      <td>-0.807723</td>\n",
              "      <td>-0.601283</td>\n",
              "      <td>-0.888421</td>\n",
              "      <td>-0.708982</td>\n",
              "      <td>0.363492</td>\n",
              "      <td>-0.846154</td>\n",
              "      <td>-0.122065</td>\n",
              "      <td>-0.283911</td>\n",
              "      <td>-0.659556</td>\n",
              "      <td>-0.592331</td>\n",
              "      <td>-0.617948</td>\n",
              "      <td>-0.605500</td>\n",
              "      <td>-0.619598</td>\n",
              "      <td>-0.930426</td>\n",
              "      <td>-0.592331</td>\n",
              "      <td>-0.915349</td>\n",
              "      <td>-0.633343</td>\n",
              "      <td>0.364393</td>\n",
              "      <td>-0.904762</td>\n",
              "      <td>-0.066249</td>\n",
              "      <td>-0.118854</td>\n",
              "      <td>-0.467179</td>\n",
              "      <td>-0.181560</td>\n",
              "      <td>0.088574</td>\n",
              "      <td>0.696663</td>\n",
              "      <td>0.363139</td>\n",
              "      <td>-0.655357</td>\n",
              "      <td>0.274479</td>\n",
              "      <td>0.181184</td>\n",
              "      <td>24</td>\n",
              "      <td>2</td>\n",
              "    </tr>\n",
              "    <tr>\n",
              "      <th>2945</th>\n",
              "      <td>0.237594</td>\n",
              "      <td>0.018467</td>\n",
              "      <td>-0.096499</td>\n",
              "      <td>-0.323114</td>\n",
              "      <td>-0.229775</td>\n",
              "      <td>-0.207574</td>\n",
              "      <td>-0.392380</td>\n",
              "      <td>-0.279610</td>\n",
              "      <td>-0.289477</td>\n",
              "      <td>0.007471</td>\n",
              "      <td>-0.106078</td>\n",
              "      <td>-0.172677</td>\n",
              "      <td>0.357500</td>\n",
              "      <td>0.275632</td>\n",
              "      <td>0.246700</td>\n",
              "      <td>-0.251372</td>\n",
              "      <td>-0.769266</td>\n",
              "      <td>-0.882274</td>\n",
              "      <td>-0.715982</td>\n",
              "      <td>-0.561646</td>\n",
              "      <td>-0.545999</td>\n",
              "      <td>-0.551268</td>\n",
              "      <td>0.194918</td>\n",
              "      <td>0.383999</td>\n",
              "      <td>0.352585</td>\n",
              "      <td>-0.100123</td>\n",
              "      <td>-0.218944</td>\n",
              "      <td>0.541771</td>\n",
              "      <td>-0.204716</td>\n",
              "      <td>-0.133353</td>\n",
              "      <td>-0.032318</td>\n",
              "      <td>0.233641</td>\n",
              "      <td>0.047228</td>\n",
              "      <td>-0.208363</td>\n",
              "      <td>0.195608</td>\n",
              "      <td>-0.054894</td>\n",
              "      <td>-0.038834</td>\n",
              "      <td>-0.190791</td>\n",
              "      <td>-0.507067</td>\n",
              "      <td>0.122642</td>\n",
              "      <td>...</td>\n",
              "      <td>0.200361</td>\n",
              "      <td>-0.904762</td>\n",
              "      <td>-0.022033</td>\n",
              "      <td>0.049927</td>\n",
              "      <td>-0.311128</td>\n",
              "      <td>-0.638555</td>\n",
              "      <td>-0.565917</td>\n",
              "      <td>-0.561972</td>\n",
              "      <td>-0.626121</td>\n",
              "      <td>-0.918150</td>\n",
              "      <td>-0.638555</td>\n",
              "      <td>-0.896280</td>\n",
              "      <td>-0.703218</td>\n",
              "      <td>0.326637</td>\n",
              "      <td>-0.846154</td>\n",
              "      <td>-0.220897</td>\n",
              "      <td>-0.266982</td>\n",
              "      <td>-0.658132</td>\n",
              "      <td>-0.679711</td>\n",
              "      <td>-0.654960</td>\n",
              "      <td>-0.631239</td>\n",
              "      <td>-0.695836</td>\n",
              "      <td>-0.785712</td>\n",
              "      <td>-0.679711</td>\n",
              "      <td>-0.940736</td>\n",
              "      <td>-0.636292</td>\n",
              "      <td>0.238363</td>\n",
              "      <td>-0.904762</td>\n",
              "      <td>-0.046467</td>\n",
              "      <td>-0.205445</td>\n",
              "      <td>-0.617737</td>\n",
              "      <td>0.444558</td>\n",
              "      <td>-0.819188</td>\n",
              "      <td>0.929294</td>\n",
              "      <td>-0.008398</td>\n",
              "      <td>-0.659719</td>\n",
              "      <td>0.264782</td>\n",
              "      <td>0.187563</td>\n",
              "      <td>24</td>\n",
              "      <td>2</td>\n",
              "    </tr>\n",
              "    <tr>\n",
              "      <th>2946</th>\n",
              "      <td>0.153627</td>\n",
              "      <td>-0.018437</td>\n",
              "      <td>-0.137018</td>\n",
              "      <td>-0.330046</td>\n",
              "      <td>-0.195253</td>\n",
              "      <td>-0.164339</td>\n",
              "      <td>-0.430974</td>\n",
              "      <td>-0.218295</td>\n",
              "      <td>-0.229933</td>\n",
              "      <td>-0.111527</td>\n",
              "      <td>-0.078502</td>\n",
              "      <td>-0.163373</td>\n",
              "      <td>0.241857</td>\n",
              "      <td>0.168188</td>\n",
              "      <td>0.213778</td>\n",
              "      <td>-0.236150</td>\n",
              "      <td>-0.771160</td>\n",
              "      <td>-0.874113</td>\n",
              "      <td>-0.683822</td>\n",
              "      <td>-0.616286</td>\n",
              "      <td>-0.408888</td>\n",
              "      <td>-0.427172</td>\n",
              "      <td>0.028807</td>\n",
              "      <td>0.213367</td>\n",
              "      <td>0.260762</td>\n",
              "      <td>-0.260698</td>\n",
              "      <td>-0.052927</td>\n",
              "      <td>0.406554</td>\n",
              "      <td>-0.151102</td>\n",
              "      <td>-0.242816</td>\n",
              "      <td>0.021422</td>\n",
              "      <td>0.338025</td>\n",
              "      <td>-0.123040</td>\n",
              "      <td>-0.331906</td>\n",
              "      <td>0.298205</td>\n",
              "      <td>-0.001256</td>\n",
              "      <td>-0.179224</td>\n",
              "      <td>-0.080295</td>\n",
              "      <td>-0.522901</td>\n",
              "      <td>0.056253</td>\n",
              "      <td>...</td>\n",
              "      <td>0.234105</td>\n",
              "      <td>-0.904762</td>\n",
              "      <td>0.136257</td>\n",
              "      <td>-0.054515</td>\n",
              "      <td>-0.404297</td>\n",
              "      <td>-0.518640</td>\n",
              "      <td>-0.563947</td>\n",
              "      <td>-0.540954</td>\n",
              "      <td>-0.588064</td>\n",
              "      <td>-0.941227</td>\n",
              "      <td>-0.518640</td>\n",
              "      <td>-0.870644</td>\n",
              "      <td>-0.572266</td>\n",
              "      <td>0.492207</td>\n",
              "      <td>-0.846154</td>\n",
              "      <td>0.037595</td>\n",
              "      <td>-0.329078</td>\n",
              "      <td>-0.648504</td>\n",
              "      <td>-0.615991</td>\n",
              "      <td>-0.625207</td>\n",
              "      <td>-0.600041</td>\n",
              "      <td>-0.627018</td>\n",
              "      <td>-0.852277</td>\n",
              "      <td>-0.615991</td>\n",
              "      <td>-0.922248</td>\n",
              "      <td>-0.615746</td>\n",
              "      <td>0.333726</td>\n",
              "      <td>-0.904762</td>\n",
              "      <td>-0.010386</td>\n",
              "      <td>-0.072237</td>\n",
              "      <td>-0.436940</td>\n",
              "      <td>0.598808</td>\n",
              "      <td>-0.287951</td>\n",
              "      <td>0.876030</td>\n",
              "      <td>-0.024965</td>\n",
              "      <td>-0.660080</td>\n",
              "      <td>0.263936</td>\n",
              "      <td>0.188103</td>\n",
              "      <td>24</td>\n",
              "      <td>2</td>\n",
              "    </tr>\n",
              "  </tbody>\n",
              "</table>\n",
              "<p>2947 rows × 563 columns</p>\n",
              "</div>"
            ],
            "text/plain": [
              "             0         1         2  ...       560  Subject  activity\n",
              "0     0.257178 -0.023285 -0.014654  ... -0.057978        2         5\n",
              "1     0.286027 -0.013163 -0.119083  ... -0.083898        2         5\n",
              "2     0.275485 -0.026050 -0.118152  ... -0.079346        2         5\n",
              "3     0.270298 -0.032614 -0.117520  ... -0.077108        2         5\n",
              "4     0.274833 -0.027848 -0.129527  ... -0.073857        2         5\n",
              "...        ...       ...       ...  ...       ...      ...       ...\n",
              "2942  0.310155 -0.053391 -0.099109  ...  0.184784       24         2\n",
              "2943  0.363385 -0.039214 -0.105915  ...  0.182412       24         2\n",
              "2944  0.349966  0.030077 -0.115788  ...  0.181184       24         2\n",
              "2945  0.237594  0.018467 -0.096499  ...  0.187563       24         2\n",
              "2946  0.153627 -0.018437 -0.137018  ...  0.188103       24         2\n",
              "\n",
              "[2947 rows x 563 columns]"
            ]
          },
          "metadata": {
            "tags": []
          },
          "execution_count": 8
        }
      ]
    },
    {
      "cell_type": "code",
      "metadata": {
        "colab": {
          "base_uri": "https://localhost:8080/"
        },
        "id": "tivafVKwSMva",
        "outputId": "e00a02ae-4763-467f-933a-760c5a320424"
      },
      "source": [
        "train_df['activity'].value_counts()"
      ],
      "execution_count": 9,
      "outputs": [
        {
          "output_type": "execute_result",
          "data": {
            "text/plain": [
              "6    1407\n",
              "5    1374\n",
              "4    1286\n",
              "1    1226\n",
              "2    1073\n",
              "3     986\n",
              "Name: activity, dtype: int64"
            ]
          },
          "metadata": {
            "tags": []
          },
          "execution_count": 9
        }
      ]
    },
    {
      "cell_type": "code",
      "metadata": {
        "id": "WMwZsRvoN4d4"
      },
      "source": [
        "train_df.to_csv('train.csv',index_label=False)"
      ],
      "execution_count": 10,
      "outputs": []
    },
    {
      "cell_type": "code",
      "metadata": {
        "id": "nawhI93UOpOC"
      },
      "source": [
        "test_df.to_csv('test.csv',index_label=False)"
      ],
      "execution_count": 11,
      "outputs": []
    },
    {
      "cell_type": "code",
      "metadata": {
        "colab": {
          "base_uri": "https://localhost:8080/"
        },
        "id": "0ivSfP4pjIQY",
        "outputId": "05f1f1f0-2df1-4002-929a-b1865d1d75c8"
      },
      "source": [
        "train_df.shape\r\n"
      ],
      "execution_count": 13,
      "outputs": [
        {
          "output_type": "execute_result",
          "data": {
            "text/plain": [
              "(7352, 563)"
            ]
          },
          "metadata": {
            "tags": []
          },
          "execution_count": 13
        }
      ]
    },
    {
      "cell_type": "code",
      "metadata": {
        "colab": {
          "base_uri": "https://localhost:8080/"
        },
        "id": "bfcmf-WqjIe7",
        "outputId": "f10611b9-2831-4e97-9953-9316a62dd56f"
      },
      "source": [
        "test_df.shape"
      ],
      "execution_count": 14,
      "outputs": [
        {
          "output_type": "execute_result",
          "data": {
            "text/plain": [
              "(2947, 563)"
            ]
          },
          "metadata": {
            "tags": []
          },
          "execution_count": 14
        }
      ]
    },
    {
      "cell_type": "code",
      "metadata": {
        "id": "DvSOjBJCnBxs"
      },
      "source": [
        "X_train=train_df.iloc[:,:-1]\r\n",
        "y_train=train_df.iloc[:,-1]"
      ],
      "execution_count": 27,
      "outputs": []
    },
    {
      "cell_type": "code",
      "metadata": {
        "id": "FzPFvQwZnB1L"
      },
      "source": [
        "X_test=test_df.iloc[:,:-1]\r\n",
        "y_test=test_df.iloc[:,-1]"
      ],
      "execution_count": 28,
      "outputs": []
    },
    {
      "cell_type": "code",
      "metadata": {
        "colab": {
          "base_uri": "https://localhost:8080/"
        },
        "id": "U5iA0kFfnB9d",
        "outputId": "6bd6cb8c-0ea5-4d8b-88e0-2d15ce8841db"
      },
      "source": [
        "print(X_train.shape)\r\n",
        "print(y_train.shape)"
      ],
      "execution_count": 31,
      "outputs": [
        {
          "output_type": "stream",
          "text": [
            "(7352, 562)\n",
            "(7352,)\n"
          ],
          "name": "stdout"
        }
      ]
    },
    {
      "cell_type": "markdown",
      "metadata": {
        "id": "oX68dLySvS5v"
      },
      "source": [
        "# **Model Part**"
      ]
    },
    {
      "cell_type": "markdown",
      "metadata": {
        "id": "kIXk6Xinvc82"
      },
      "source": [
        "# **1) Random Forest**"
      ]
    },
    {
      "cell_type": "code",
      "metadata": {
        "colab": {
          "base_uri": "https://localhost:8080/"
        },
        "id": "1uQmAHHNjIk8",
        "outputId": "f8fc4aab-2fdd-41be-91e3-c0e4d2057474"
      },
      "source": [
        "from sklearn.ensemble import RandomForestClassifier\r\n",
        "rfc=RandomForestClassifier(criterion='gini',min_samples_split=2,n_estimators=100)\r\n",
        "rfc.fit(X_train,y_train)"
      ],
      "execution_count": 34,
      "outputs": [
        {
          "output_type": "execute_result",
          "data": {
            "text/plain": [
              "RandomForestClassifier(bootstrap=True, ccp_alpha=0.0, class_weight=None,\n",
              "                       criterion='gini', max_depth=None, max_features='auto',\n",
              "                       max_leaf_nodes=None, max_samples=None,\n",
              "                       min_impurity_decrease=0.0, min_impurity_split=None,\n",
              "                       min_samples_leaf=1, min_samples_split=2,\n",
              "                       min_weight_fraction_leaf=0.0, n_estimators=100,\n",
              "                       n_jobs=None, oob_score=False, random_state=None,\n",
              "                       verbose=0, warm_start=False)"
            ]
          },
          "metadata": {
            "tags": []
          },
          "execution_count": 34
        }
      ]
    },
    {
      "cell_type": "markdown",
      "metadata": {
        "id": "8dV_bS-uvoRL"
      },
      "source": [
        "# **2) Decision Tree**"
      ]
    },
    {
      "cell_type": "code",
      "metadata": {
        "colab": {
          "base_uri": "https://localhost:8080/"
        },
        "id": "tKQkx46msOqo",
        "outputId": "505fb5f9-b653-4f64-85f4-2dcd46bbd689"
      },
      "source": [
        "from sklearn.tree import DecisionTreeClassifier\r\n",
        "dsc=DecisionTreeClassifier(criterion='gini',splitter='best',min_samples_split=4)\r\n",
        "dsc.fit(X_train,y_train)"
      ],
      "execution_count": 45,
      "outputs": [
        {
          "output_type": "execute_result",
          "data": {
            "text/plain": [
              "DecisionTreeClassifier(ccp_alpha=0.0, class_weight=None, criterion='gini',\n",
              "                       max_depth=None, max_features=None, max_leaf_nodes=None,\n",
              "                       min_impurity_decrease=0.0, min_impurity_split=None,\n",
              "                       min_samples_leaf=1, min_samples_split=4,\n",
              "                       min_weight_fraction_leaf=0.0, presort='deprecated',\n",
              "                       random_state=None, splitter='best')"
            ]
          },
          "metadata": {
            "tags": []
          },
          "execution_count": 45
        }
      ]
    },
    {
      "cell_type": "code",
      "metadata": {
        "id": "j8RZ44EgvuQP"
      },
      "source": [
        ""
      ],
      "execution_count": null,
      "outputs": []
    },
    {
      "cell_type": "markdown",
      "metadata": {
        "id": "hR25MdfuyEvj"
      },
      "source": [
        "# **Predicting with test Data**"
      ]
    },
    {
      "cell_type": "code",
      "metadata": {
        "colab": {
          "base_uri": "https://localhost:8080/"
        },
        "id": "ZtFBzh-Rx39T",
        "outputId": "3eee577f-b29b-4357-a5e6-a3c1a76b9208"
      },
      "source": [
        "y_pred_rfc=rfc.predict(X_test)\r\n",
        "y_pred_rfc"
      ],
      "execution_count": 55,
      "outputs": [
        {
          "output_type": "execute_result",
          "data": {
            "text/plain": [
              "array([5, 5, 5, ..., 2, 2, 1])"
            ]
          },
          "metadata": {
            "tags": []
          },
          "execution_count": 55
        }
      ]
    },
    {
      "cell_type": "code",
      "metadata": {
        "colab": {
          "base_uri": "https://localhost:8080/"
        },
        "id": "5452X-yuzB3M",
        "outputId": "d6e43b4f-ffa1-4116-e8cf-c4d73fa95fbe"
      },
      "source": [
        "y_pred_dsc=dsc.predict(X_test)\r\n",
        "y_pred_dsc"
      ],
      "execution_count": 57,
      "outputs": [
        {
          "output_type": "execute_result",
          "data": {
            "text/plain": [
              "array([5, 5, 5, ..., 2, 1, 2])"
            ]
          },
          "metadata": {
            "tags": []
          },
          "execution_count": 57
        }
      ]
    },
    {
      "cell_type": "markdown",
      "metadata": {
        "id": "mR1pZd6qxIZ4"
      },
      "source": [
        "## **Metrics**"
      ]
    },
    {
      "cell_type": "markdown",
      "metadata": {
        "id": "8OLWfzjfxNAI"
      },
      "source": [
        "## Accuracy"
      ]
    },
    {
      "cell_type": "code",
      "metadata": {
        "colab": {
          "base_uri": "https://localhost:8080/"
        },
        "id": "XyGo7qkXvuYA",
        "outputId": "7c571316-df71-408b-e4ce-d3fb86f81bf3"
      },
      "source": [
        "#Random Forest \r\n",
        "rfc.score(X_test,y_test)"
      ],
      "execution_count": 47,
      "outputs": [
        {
          "output_type": "execute_result",
          "data": {
            "text/plain": [
              "0.9212758737699356"
            ]
          },
          "metadata": {
            "tags": []
          },
          "execution_count": 47
        }
      ]
    },
    {
      "cell_type": "code",
      "metadata": {
        "colab": {
          "base_uri": "https://localhost:8080/"
        },
        "id": "Z0-Oa4mOvufR",
        "outputId": "57c1802f-5eef-423e-8d82-c56840ef3c0c"
      },
      "source": [
        "#Decision Tree\r\n",
        "dsc.score(X_test,y_test)"
      ],
      "execution_count": 48,
      "outputs": [
        {
          "output_type": "execute_result",
          "data": {
            "text/plain": [
              "0.8615541228367831"
            ]
          },
          "metadata": {
            "tags": []
          },
          "execution_count": 48
        }
      ]
    },
    {
      "cell_type": "markdown",
      "metadata": {
        "id": "ReYHykXwyTi7"
      },
      "source": [
        "# Classification Report"
      ]
    },
    {
      "cell_type": "code",
      "metadata": {
        "colab": {
          "base_uri": "https://localhost:8080/"
        },
        "id": "BAhmZp_AySYR",
        "outputId": "8f37c392-d0ed-4b98-ea7d-81a0c64a51a1"
      },
      "source": [
        "#1)Random Forest\r\n",
        "from sklearn.metrics import classification_report\r\n",
        "print(classification_report(y_test,y_pred_rfc))"
      ],
      "execution_count": 58,
      "outputs": [
        {
          "output_type": "stream",
          "text": [
            "              precision    recall  f1-score   support\n",
            "\n",
            "           1       0.88      0.98      0.93       496\n",
            "           2       0.89      0.90      0.89       471\n",
            "           3       0.96      0.83      0.89       420\n",
            "           4       0.90      0.89      0.90       491\n",
            "           5       0.90      0.91      0.91       532\n",
            "           6       1.00      1.00      1.00       537\n",
            "\n",
            "    accuracy                           0.92      2947\n",
            "   macro avg       0.92      0.92      0.92      2947\n",
            "weighted avg       0.92      0.92      0.92      2947\n",
            "\n"
          ],
          "name": "stdout"
        }
      ]
    },
    {
      "cell_type": "code",
      "metadata": {
        "colab": {
          "base_uri": "https://localhost:8080/"
        },
        "id": "uQaIcrrJxmhh",
        "outputId": "4746f118-82db-43f1-dc55-d3d21f299b4a"
      },
      "source": [
        "#2)Decision Tree\r\n",
        "from sklearn.metrics import classification_report\r\n",
        "print(classification_report(y_test,y_pred_dsc))"
      ],
      "execution_count": 59,
      "outputs": [
        {
          "output_type": "stream",
          "text": [
            "              precision    recall  f1-score   support\n",
            "\n",
            "           1       0.82      0.91      0.86       496\n",
            "           2       0.84      0.77      0.80       471\n",
            "           3       0.88      0.85      0.87       420\n",
            "           4       0.83      0.76      0.80       491\n",
            "           5       0.80      0.86      0.83       532\n",
            "           6       1.00      1.00      1.00       537\n",
            "\n",
            "    accuracy                           0.86      2947\n",
            "   macro avg       0.86      0.86      0.86      2947\n",
            "weighted avg       0.86      0.86      0.86      2947\n",
            "\n"
          ],
          "name": "stdout"
        }
      ]
    },
    {
      "cell_type": "code",
      "metadata": {
        "id": "U5oKqEyTxmkS"
      },
      "source": [
        ""
      ],
      "execution_count": null,
      "outputs": []
    },
    {
      "cell_type": "markdown",
      "metadata": {
        "id": "2w9-Fyr3zc0f"
      },
      "source": [
        "# Confusion Matrix"
      ]
    },
    {
      "cell_type": "code",
      "metadata": {
        "id": "lfznyUobxmnL"
      },
      "source": [
        "from sklearn.metrics import plot_confusion_matrix,confusion_matrix\r\n"
      ],
      "execution_count": 63,
      "outputs": []
    },
    {
      "cell_type": "code",
      "metadata": {
        "colab": {
          "base_uri": "https://localhost:8080/",
          "height": 279
        },
        "id": "JaRiriDsxmph",
        "outputId": "289fe0e7-f89d-4e3e-fc59-c893793f5706"
      },
      "source": [
        "#1) Random Forest\r\n",
        "plot_confusion_matrix(dsc, X_test, y_test)\r\n",
        "plt.show()"
      ],
      "execution_count": 68,
      "outputs": [
        {
          "output_type": "display_data",
          "data": {
            "image/png": "[encoded data removed]",
            "text/plain": [
              "<Figure size 432x288 with 2 Axes>"
            ]
          },
          "metadata": {
            "tags": [],
            "needs_background": "light"
          }
        }
      ]
    },
    {
      "cell_type": "code",
      "metadata": {
        "colab": {
          "base_uri": "https://localhost:8080/",
          "height": 279
        },
        "id": "rjHKh9lQxmsQ",
        "outputId": "ee4aeeda-a6ca-4873-9877-2e0e622faff3"
      },
      "source": [
        "#2) Decision Tree\r\n",
        "plot_confusion_matrix(rfc, X_test, y_test)\r\n",
        "plt.show()"
      ],
      "execution_count": 70,
      "outputs": [
        {
          "output_type": "display_data",
          "data": {
            "image/png": "[encoded data removed]",
            "text/plain": [
              "<Figure size 432x288 with 2 Axes>"
            ]
          },
          "metadata": {
            "tags": [],
            "needs_background": "light"
          }
        }
      ]
    },
    {
      "cell_type": "code",
      "metadata": {
        "id": "77GWIXzTxmua"
      },
      "source": [
        ""
      ],
      "execution_count": null,
      "outputs": []
    },
    {
      "cell_type": "markdown",
      "metadata": {
        "id": "aZxImz7K0xbS"
      },
      "source": [
        "# F1 Score"
      ]
    },
    {
      "cell_type": "code",
      "metadata": {
        "id": "L0KqE1vv00iS"
      },
      "source": [
        "from sklearn.metrics import f1_score"
      ],
      "execution_count": 71,
      "outputs": []
    },
    {
      "cell_type": "code",
      "metadata": {
        "colab": {
          "base_uri": "https://localhost:8080/"
        },
        "id": "oKUtcehv00p8",
        "outputId": "bd6dc2d2-63fa-4fa9-b4f9-d927af291407"
      },
      "source": [
        "f1_score(y_test,y_pred_rfc,average='macro')"
      ],
      "execution_count": 74,
      "outputs": [
        {
          "output_type": "execute_result",
          "data": {
            "text/plain": [
              "0.9190015226191401"
            ]
          },
          "metadata": {
            "tags": []
          },
          "execution_count": 74
        }
      ]
    },
    {
      "cell_type": "code",
      "metadata": {
        "colab": {
          "base_uri": "https://localhost:8080/"
        },
        "id": "_UwQB0z800sc",
        "outputId": "8d7edcf9-ba4d-4039-ea11-4a984ad24bf1"
      },
      "source": [
        "f1_score(y_test,y_pred_dsc,average='macro')"
      ],
      "execution_count": 75,
      "outputs": [
        {
          "output_type": "execute_result",
          "data": {
            "text/plain": [
              "0.8590019672302965"
            ]
          },
          "metadata": {
            "tags": []
          },
          "execution_count": 75
        }
      ]
    },
    {
      "cell_type": "code",
      "metadata": {
        "id": "ELBjUs-G00vD"
      },
      "source": [
        ""
      ],
      "execution_count": null,
      "outputs": []
    },
    {
      "cell_type": "markdown",
      "metadata": {
        "id": "txnzS83N1cqy"
      },
      "source": [
        "# AUC Score"
      ]
    },
    {
      "cell_type": "code",
      "metadata": {
        "id": "P5l45-PT00xX"
      },
      "source": [
        "from sklearn.metrics import roc_auc_score"
      ],
      "execution_count": 76,
      "outputs": []
    },
    {
      "cell_type": "code",
      "metadata": {
        "colab": {
          "base_uri": "https://localhost:8080/"
        },
        "id": "ryzQtD5v1icT",
        "outputId": "cf285e5f-e035-4aee-dd6c-ea3d56ce0f3a"
      },
      "source": [
        "roc_auc_score(y_test, rfc.predict_proba(X_test), multi_class='ovr')"
      ],
      "execution_count": 78,
      "outputs": [
        {
          "output_type": "execute_result",
          "data": {
            "text/plain": [
              "0.99462742943853"
            ]
          },
          "metadata": {
            "tags": []
          },
          "execution_count": 78
        }
      ]
    },
    {
      "cell_type": "code",
      "metadata": {
        "colab": {
          "base_uri": "https://localhost:8080/"
        },
        "id": "6uw0SEEG1igR",
        "outputId": "f726f935-e556-465a-ea81-f9a7ea5ae39b"
      },
      "source": [
        "roc_auc_score(y_test, dsc.predict_proba(X_test), multi_class='ovr')"
      ],
      "execution_count": 79,
      "outputs": [
        {
          "output_type": "execute_result",
          "data": {
            "text/plain": [
              "0.9166560497087158"
            ]
          },
          "metadata": {
            "tags": []
          },
          "execution_count": 79
        }
      ]
    },
    {
      "cell_type": "markdown",
      "metadata": {
        "id": "fyfTrVUC1yv7"
      },
      "source": [
        "# **Saving the Model**"
      ]
    },
    {
      "cell_type": "code",
      "metadata": {
        "id": "sRPQMm3LTy_Z"
      },
      "source": [
        "import pickle"
      ],
      "execution_count": 80,
      "outputs": []
    },
    {
      "cell_type": "code",
      "metadata": {
        "id": "SNbpfF6_177I"
      },
      "source": [
        "pickle.dump(dsc,open(\"model_decisionTree.pkl\",\"wb+\"),protocol=pickle.HIGHEST_PROTOCOL)"
      ],
      "execution_count": 82,
      "outputs": []
    },
    {
      "cell_type": "code",
      "metadata": {
        "id": "ONLZxjHf1-17"
      },
      "source": [
        "pickle.dump(rfc,open(\"model_randomForest.pkl\",\"wb+\"),protocol=pickle.HIGHEST_PROTOCOL)"
      ],
      "execution_count": 84,
      "outputs": []
    },
    {
      "cell_type": "code",
      "metadata": {
        "id": "dHGxWI9I7DfH"
      },
      "source": [
        ""
      ],
      "execution_count": null,
      "outputs": []
    }
  ]
}